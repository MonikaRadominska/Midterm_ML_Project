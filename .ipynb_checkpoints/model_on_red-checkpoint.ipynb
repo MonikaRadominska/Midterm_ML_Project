{
 "cells": [
  {
   "cell_type": "code",
   "execution_count": 2,
   "id": "a0496512",
   "metadata": {},
   "outputs": [],
   "source": [
    "import numpy as np\n",
    "import pandas as pd\n",
    "import matplotlib.pyplot as plt\n",
    "%matplotlib inline\n",
    "import seaborn as sns\n",
    "from sklearn.preprocessing import PowerTransformer\n",
    "from sklearn.preprocessing import StandardScaler\n",
    "from sklearn.compose import ColumnTransformer\n",
    "from sklearn.linear_model import LinearRegression\n",
    "from sklearn.model_selection import train_test_split\n",
    "import statsmodels.api as sm\n",
    "from sklearn.metrics import r2_score\n",
    "from sklearn.metrics import mean_squared_error as mse\n",
    "from sklearn.metrics import mean_absolute_error as mae"
   ]
  },
  {
   "cell_type": "code",
   "execution_count": 3,
   "id": "35875029",
   "metadata": {},
   "outputs": [],
   "source": [
    "red = pd.read_csv('data/red_final.csv')\n",
    "red = red.drop(['Unnamed: 0'], axis = 1)"
   ]
  },
  {
   "cell_type": "code",
   "execution_count": 18,
   "id": "48d3e6ab",
   "metadata": {},
   "outputs": [],
   "source": [
    "white = pd.read_csv('data/white_final.csv')\n",
    "white = white.drop(['Unnamed: 0'], axis = 1)"
   ]
  },
  {
   "cell_type": "markdown",
   "id": "cc700fd4",
   "metadata": {},
   "source": [
    "# X - y Split"
   ]
  },
  {
   "cell_type": "code",
   "execution_count": 4,
   "id": "e3aac596",
   "metadata": {},
   "outputs": [],
   "source": [
    "X_red = red.drop('quality', axis=1)\n",
    "y_red = red.quality"
   ]
  },
  {
   "cell_type": "code",
   "execution_count": 19,
   "id": "537d1e1b",
   "metadata": {},
   "outputs": [],
   "source": [
    "X_white = white.drop('quality', axis=1)\n",
    "y_white = white.quality"
   ]
  },
  {
   "cell_type": "markdown",
   "id": "9f3be229",
   "metadata": {},
   "source": [
    "# Train - Test Split"
   ]
  },
  {
   "cell_type": "code",
   "execution_count": 5,
   "id": "baed45e1",
   "metadata": {},
   "outputs": [],
   "source": [
    "X_red_train, X_red_test, y_red_train, y_red_test = train_test_split(X_red, y_red, test_size=0.3, random_state=100)\n",
    "X_red_train = pd.DataFrame(X_red_train)\n",
    "y_red_train = pd.DataFrame(y_red_train)\n",
    "X_red_test = pd.DataFrame(X_red_test)\n",
    "y_red_test = pd.DataFrame(y_red_test)"
   ]
  },
  {
   "cell_type": "code",
   "execution_count": 20,
   "id": "83aba1d4",
   "metadata": {},
   "outputs": [],
   "source": [
    "X_white_train, X_white_test, y_white_train, y_white_test = train_test_split(X_white, y_white, test_size=0.3, random_state=100)\n",
    "X_white_train = pd.DataFrame(X_white_train)\n",
    "y_white_train = pd.DataFrame(y_white_train)\n",
    "X_white_test = pd.DataFrame(X_white_test)\n",
    "y_white_test = pd.DataFrame(y_white_test)"
   ]
  },
  {
   "cell_type": "markdown",
   "id": "7fa2f917",
   "metadata": {},
   "source": [
    "# Model Red"
   ]
  },
  {
   "cell_type": "markdown",
   "id": "834740f2",
   "metadata": {},
   "source": [
    "### Powertransformation X_train and X_test"
   ]
  },
  {
   "cell_type": "code",
   "execution_count": 6,
   "id": "f2e54b90",
   "metadata": {},
   "outputs": [
    {
     "name": "stdout",
     "output_type": "stream",
     "text": [
      "[ColumnTransformer] ............ (1 of 1) Processing pt, total=   0.0s\n"
     ]
    }
   ],
   "source": [
    "pt = PowerTransformer(method='yeo-johnson', standardize=True)\n",
    "\n",
    "# fit on X_train\n",
    "ct = ColumnTransformer([(\"pt\", pt, list(X_red_train.columns))], \n",
    "                       remainder='drop',verbose_feature_names_out=True,verbose=True).fit(X_red_train)\n",
    "\n",
    "# transform X_train\n",
    "X_red_train_ct = pd.DataFrame(ct.transform(X_red_train), columns=ct.get_feature_names_out())  \n",
    "\n",
    "# transform X_test\n",
    "X_red_test_ct = pd.DataFrame(ct.transform(X_red_test),columns=ct.get_feature_names_out())"
   ]
  },
  {
   "cell_type": "markdown",
   "id": "d54afcb3",
   "metadata": {},
   "source": [
    "### OLS Modelling "
   ]
  },
  {
   "cell_type": "code",
   "execution_count": 7,
   "id": "c5293272",
   "metadata": {},
   "outputs": [
    {
     "name": "stdout",
     "output_type": "stream",
     "text": [
      "                            OLS Regression Results                            \n",
      "==============================================================================\n",
      "Dep. Variable:                quality   R-squared:                       0.385\n",
      "Model:                            OLS   Adj. R-squared:                  0.377\n",
      "Method:                 Least Squares   F-statistic:                     49.55\n",
      "Date:                Thu, 20 Apr 2023   Prob (F-statistic):           2.33e-84\n",
      "Time:                        12:01:56   Log-Likelihood:                -844.36\n",
      "No. Observations:                 884   AIC:                             1713.\n",
      "Df Residuals:                     872   BIC:                             1770.\n",
      "Df Model:                          11                                         \n",
      "Covariance Type:            nonrobust                                         \n",
      "==============================================================================\n",
      "                 coef    std err          t      P>|t|      [0.025      0.975]\n",
      "------------------------------------------------------------------------------\n",
      "const          5.6606      0.021    265.793      0.000       5.619       5.702\n",
      "x1             0.1087      0.058      1.871      0.062      -0.005       0.223\n",
      "x2            -0.1510      0.029     -5.157      0.000      -0.208      -0.094\n",
      "x3            -0.0533      0.036     -1.484      0.138      -0.124       0.017\n",
      "x4             0.0284      0.028      1.025      0.306      -0.026       0.083\n",
      "x5            -0.0363      0.025     -1.465      0.143      -0.085       0.012\n",
      "x6             0.0424      0.036      1.178      0.239      -0.028       0.113\n",
      "x7            -0.0619      0.038     -1.608      0.108      -0.137       0.014\n",
      "x8            -0.1111      0.053     -2.098      0.036      -0.215      -0.007\n",
      "x9            -0.0658      0.039     -1.699      0.090      -0.142       0.010\n",
      "x10            0.1681      0.025      6.796      0.000       0.120       0.217\n",
      "x11            0.2961      0.035      8.416      0.000       0.227       0.365\n",
      "==============================================================================\n",
      "Omnibus:                        5.757   Durbin-Watson:                   1.931\n",
      "Prob(Omnibus):                  0.056   Jarque-Bera (JB):                7.164\n",
      "Skew:                          -0.055   Prob(JB):                       0.0278\n",
      "Kurtosis:                       3.427   Cond. No.                         6.97\n",
      "==============================================================================\n",
      "\n",
      "Notes:\n",
      "[1] Standard Errors assume that the covariance matrix of the errors is correctly specified.\n"
     ]
    }
   ],
   "source": [
    "# X_train\n",
    "X_red_train_const_ct = sm.add_constant(X_red_train_ct.to_numpy()) # adding a constant\n",
    "model = sm.OLS(y_red_train, X_red_train_const_ct).fit() # fit the model # y_train is not powertransformed\n",
    "predictions_train = model.predict(X_red_train_const_ct) # predict\n",
    "\n",
    "# X_test\n",
    "X_red_test_const_ct = sm.add_constant(X_red_test_ct) # adding a constant on X_test\n",
    "predictions_test = model.predict(X_red_test_const_ct) # predict\n",
    "\n",
    "\n",
    "print_model = model.summary()\n",
    "print(print_model)"
   ]
  },
  {
   "cell_type": "markdown",
   "id": "dd6eeda2",
   "metadata": {},
   "source": [
    "### Predicting"
   ]
  },
  {
   "cell_type": "code",
   "execution_count": 8,
   "id": "bf7756ff",
   "metadata": {
    "collapsed": true
   },
   "outputs": [
    {
     "data": {
      "text/html": [
       "<div>\n",
       "<style scoped>\n",
       "    .dataframe tbody tr th:only-of-type {\n",
       "        vertical-align: middle;\n",
       "    }\n",
       "\n",
       "    .dataframe tbody tr th {\n",
       "        vertical-align: top;\n",
       "    }\n",
       "\n",
       "    .dataframe thead th {\n",
       "        text-align: right;\n",
       "    }\n",
       "</style>\n",
       "<table border=\"1\" class=\"dataframe\">\n",
       "  <thead>\n",
       "    <tr style=\"text-align: right;\">\n",
       "      <th></th>\n",
       "      <th>quality</th>\n",
       "      <th>quality</th>\n",
       "    </tr>\n",
       "  </thead>\n",
       "  <tbody>\n",
       "    <tr>\n",
       "      <th>0</th>\n",
       "      <td>7.0</td>\n",
       "      <td>6.416121</td>\n",
       "    </tr>\n",
       "    <tr>\n",
       "      <th>1</th>\n",
       "      <td>7.0</td>\n",
       "      <td>6.519586</td>\n",
       "    </tr>\n",
       "    <tr>\n",
       "      <th>2</th>\n",
       "      <td>7.0</td>\n",
       "      <td>6.159890</td>\n",
       "    </tr>\n",
       "    <tr>\n",
       "      <th>3</th>\n",
       "      <td>7.0</td>\n",
       "      <td>6.593481</td>\n",
       "    </tr>\n",
       "    <tr>\n",
       "      <th>4</th>\n",
       "      <td>6.0</td>\n",
       "      <td>6.491318</td>\n",
       "    </tr>\n",
       "    <tr>\n",
       "      <th>...</th>\n",
       "      <td>...</td>\n",
       "      <td>...</td>\n",
       "    </tr>\n",
       "    <tr>\n",
       "      <th>879</th>\n",
       "      <td>5.0</td>\n",
       "      <td>5.548932</td>\n",
       "    </tr>\n",
       "    <tr>\n",
       "      <th>880</th>\n",
       "      <td>7.0</td>\n",
       "      <td>5.255621</td>\n",
       "    </tr>\n",
       "    <tr>\n",
       "      <th>881</th>\n",
       "      <td>7.0</td>\n",
       "      <td>5.749008</td>\n",
       "    </tr>\n",
       "    <tr>\n",
       "      <th>882</th>\n",
       "      <td>5.0</td>\n",
       "      <td>5.392821</td>\n",
       "    </tr>\n",
       "    <tr>\n",
       "      <th>883</th>\n",
       "      <td>7.0</td>\n",
       "      <td>6.446353</td>\n",
       "    </tr>\n",
       "  </tbody>\n",
       "</table>\n",
       "<p>884 rows × 2 columns</p>\n",
       "</div>"
      ],
      "text/plain": [
       "     quality   quality\n",
       "0        7.0  6.416121\n",
       "1        7.0  6.519586\n",
       "2        7.0  6.159890\n",
       "3        7.0  6.593481\n",
       "4        6.0  6.491318\n",
       "..       ...       ...\n",
       "879      5.0  5.548932\n",
       "880      7.0  5.255621\n",
       "881      7.0  5.749008\n",
       "882      5.0  5.392821\n",
       "883      7.0  6.446353\n",
       "\n",
       "[884 rows x 2 columns]"
      ]
     },
     "execution_count": 8,
     "metadata": {},
     "output_type": "execute_result"
    }
   ],
   "source": [
    "# train\n",
    "y_red_train_pred = pd.DataFrame(model.predict(X_red_train_const_ct), columns = ['quality'])\n",
    "y_red_train = y_red_train.reset_index(drop=True)\n",
    "result_train = pd.concat([y_red_train, y_red_train_pred], axis=1)\n",
    "result_train"
   ]
  },
  {
   "cell_type": "code",
   "execution_count": 10,
   "id": "5c01c234",
   "metadata": {
    "collapsed": true
   },
   "outputs": [
    {
     "data": {
      "text/html": [
       "<div>\n",
       "<style scoped>\n",
       "    .dataframe tbody tr th:only-of-type {\n",
       "        vertical-align: middle;\n",
       "    }\n",
       "\n",
       "    .dataframe tbody tr th {\n",
       "        vertical-align: top;\n",
       "    }\n",
       "\n",
       "    .dataframe thead th {\n",
       "        text-align: right;\n",
       "    }\n",
       "</style>\n",
       "<table border=\"1\" class=\"dataframe\">\n",
       "  <thead>\n",
       "    <tr style=\"text-align: right;\">\n",
       "      <th></th>\n",
       "      <th>quality</th>\n",
       "      <th>quality</th>\n",
       "    </tr>\n",
       "  </thead>\n",
       "  <tbody>\n",
       "    <tr>\n",
       "      <th>0</th>\n",
       "      <td>5.0</td>\n",
       "      <td>4.882679</td>\n",
       "    </tr>\n",
       "    <tr>\n",
       "      <th>1</th>\n",
       "      <td>5.0</td>\n",
       "      <td>5.115966</td>\n",
       "    </tr>\n",
       "    <tr>\n",
       "      <th>2</th>\n",
       "      <td>5.0</td>\n",
       "      <td>5.006577</td>\n",
       "    </tr>\n",
       "    <tr>\n",
       "      <th>3</th>\n",
       "      <td>6.0</td>\n",
       "      <td>5.667571</td>\n",
       "    </tr>\n",
       "    <tr>\n",
       "      <th>4</th>\n",
       "      <td>5.0</td>\n",
       "      <td>4.987168</td>\n",
       "    </tr>\n",
       "    <tr>\n",
       "      <th>...</th>\n",
       "      <td>...</td>\n",
       "      <td>...</td>\n",
       "    </tr>\n",
       "    <tr>\n",
       "      <th>374</th>\n",
       "      <td>5.0</td>\n",
       "      <td>5.131781</td>\n",
       "    </tr>\n",
       "    <tr>\n",
       "      <th>375</th>\n",
       "      <td>6.0</td>\n",
       "      <td>6.650023</td>\n",
       "    </tr>\n",
       "    <tr>\n",
       "      <th>376</th>\n",
       "      <td>7.0</td>\n",
       "      <td>5.521249</td>\n",
       "    </tr>\n",
       "    <tr>\n",
       "      <th>377</th>\n",
       "      <td>5.0</td>\n",
       "      <td>5.321987</td>\n",
       "    </tr>\n",
       "    <tr>\n",
       "      <th>378</th>\n",
       "      <td>6.0</td>\n",
       "      <td>4.832905</td>\n",
       "    </tr>\n",
       "  </tbody>\n",
       "</table>\n",
       "<p>379 rows × 2 columns</p>\n",
       "</div>"
      ],
      "text/plain": [
       "     quality   quality\n",
       "0        5.0  4.882679\n",
       "1        5.0  5.115966\n",
       "2        5.0  5.006577\n",
       "3        6.0  5.667571\n",
       "4        5.0  4.987168\n",
       "..       ...       ...\n",
       "374      5.0  5.131781\n",
       "375      6.0  6.650023\n",
       "376      7.0  5.521249\n",
       "377      5.0  5.321987\n",
       "378      6.0  4.832905\n",
       "\n",
       "[379 rows x 2 columns]"
      ]
     },
     "execution_count": 10,
     "metadata": {},
     "output_type": "execute_result"
    }
   ],
   "source": [
    "# test\n",
    "y_red_pred = pd.DataFrame(model.predict(X_red_test_const_ct), columns = ['quality'] )\n",
    "y_red_test = y_red_test.reset_index(drop=True)\n",
    "result_test = pd.concat([y_red_test,y_red_pred], axis=1)\n",
    "result_test"
   ]
  },
  {
   "cell_type": "markdown",
   "id": "0fcaa883",
   "metadata": {},
   "source": [
    "### SciKit Linear Regression"
   ]
  },
  {
   "cell_type": "code",
   "execution_count": 11,
   "id": "f4adae08",
   "metadata": {},
   "outputs": [],
   "source": [
    "from sklearn.linear_model import LinearRegression\n",
    "lr = LinearRegression()\n",
    "lr.fit(X_red_train_ct, y_red_train)\n",
    "lr.coef_\n",
    "lr.intercept_\n",
    "y_red_train_pred =  pd.DataFrame(lr.predict(X_red_train_ct), columns = ['quality'])\n",
    "y_red_test_pred = pd.DataFrame(lr.predict(X_red_test_ct), columns = ['quality'])"
   ]
  },
  {
   "cell_type": "code",
   "execution_count": 12,
   "id": "e3278be3",
   "metadata": {},
   "outputs": [],
   "source": [
    "from sklearn.metrics import mean_squared_error, r2_score, mean_absolute_error\n",
    "\n",
    "# red_train_mse = mean_squared_error(y_red_train, y_red_train_pred)\n",
    "# red_train_mae = mean_absolute_error(y_red_train, y_red_train_pred)\n",
    "red_train_r2 = r2_score(y_red_train, y_red_train_pred)\n",
    "red_train_ar2 = 1 - (1 - red_train_r2) * (len(y_red_train) -1) / (len(y_red_train) - X_red_train.shape[1] - 1)\n",
    "    # has X_train to be the scaled one?\n",
    "\n",
    "#red_test_mse = mean_squared_error(y_red_test, y_red_test_pred)\n",
    "#red_test_mae = mean_absolute_error(y_red_test, y_red_test_pred)\n",
    "red_test_r2 = r2_score(y_red_test, y_red_test_pred)\n",
    "red_test_ar2 = 1 - (1 - red_test_r2) * (len(y_red_test) -1) / (len(y_red_test) - X_red_test.shape[1] - 1)"
   ]
  },
  {
   "cell_type": "code",
   "execution_count": null,
   "id": "d1ed2a17",
   "metadata": {
    "scrolled": true
   },
   "outputs": [],
   "source": [
    "from sklearn.linear_model import LogisticRegression\n",
    "from sklearn.metrics import accuracy_score\n",
    "\n",
    "logr = LogisticRegression()\n",
    "logr.fit(X_red_train_ct, y_red_train)\n",
    "y_pred_logr_test = logr.predict(X_red_test)\n",
    "y_pred_logr_train = logr.predict(X_red_train)\n",
    "\n",
    "accuracy_logr_test = accuracy_score(y_red_test, y_pred_logr_test)\n",
    "accuracy_logr_train = accuracy_score(y_red_train, y_pred_logr_train)\n",
    "\n",
    "\n",
    "print(\"Accuracy score training: {:.2f}\".format(accuracy_logr_train))\n",
    "print(\"Accuracy score training: {:.2f}\".format(accuracy_logr_test))\n"
   ]
  },
  {
   "cell_type": "code",
   "execution_count": null,
   "id": "dd7697d7",
   "metadata": {},
   "outputs": [],
   "source": [
    "from sklearn.tree import DecisionTreeClassifier\n",
    "dtc = DecisionTreeClassifier()\n",
    "\n",
    "dtc.fit(X_red_train_ct, y_red_train)\n",
    "\n",
    "y_pred_dtc_test = dtc.predict(X_red_test)\n",
    "y_pred_dtc_train = dtc.predict(X_red_train)\n",
    "\n",
    "accuracy_dtc_test = accuracy_score(y_red_test, y_pred_dtc_test)\n",
    "accuracy_dtc_train = accuracy_score(y_red_train, y_pred_dtc_train)\n",
    "\n",
    "\n",
    "print(\"Accuracy score training: {:.2f}\".format(accuracy_dtc_train))\n",
    "print(\"Accuracy score training: {:.2f}\".format(accuracy_dtc_test))"
   ]
  },
  {
   "cell_type": "code",
   "execution_count": 17,
   "id": "fef94c03",
   "metadata": {},
   "outputs": [
    {
     "data": {
      "text/html": [
       "<div>\n",
       "<style scoped>\n",
       "    .dataframe tbody tr th:only-of-type {\n",
       "        vertical-align: middle;\n",
       "    }\n",
       "\n",
       "    .dataframe tbody tr th {\n",
       "        vertical-align: top;\n",
       "    }\n",
       "\n",
       "    .dataframe thead th {\n",
       "        text-align: right;\n",
       "    }\n",
       "</style>\n",
       "<table border=\"1\" class=\"dataframe\">\n",
       "  <thead>\n",
       "    <tr style=\"text-align: right;\">\n",
       "      <th></th>\n",
       "      <th>Method</th>\n",
       "      <th>Train R2</th>\n",
       "      <th>Test R2</th>\n",
       "      <th>Train Adj. R2</th>\n",
       "      <th>Test Adj. R2</th>\n",
       "    </tr>\n",
       "  </thead>\n",
       "  <tbody>\n",
       "    <tr>\n",
       "      <th>0</th>\n",
       "      <td>Linear Regression</td>\n",
       "      <td>0.384654</td>\n",
       "      <td>0.367697</td>\n",
       "      <td>0.376891</td>\n",
       "      <td>0.348745</td>\n",
       "    </tr>\n",
       "  </tbody>\n",
       "</table>\n",
       "</div>"
      ],
      "text/plain": [
       "              Method  Train R2   Test R2  Train Adj. R2  Test Adj. R2\n",
       "0  Linear Regression  0.384654  0.367697       0.376891      0.348745"
      ]
     },
     "execution_count": 17,
     "metadata": {},
     "output_type": "execute_result"
    }
   ],
   "source": [
    "lr_results = pd.DataFrame([['Linear Regression', red_train_r2, red_test_r2, red_train_ar2, red_test_ar2], \n",
    "   \n",
    "], columns=['Method','Train R2', 'Test R2', 'Train Adj. R2', 'Test Adj. R2'])\n",
    "lr_results\n",
    "# so, train is bigger than test: meaning overfitting"
   ]
  },
  {
   "cell_type": "code",
   "execution_count": null,
   "id": "93ea632c",
   "metadata": {},
   "outputs": [],
   "source": [
    "results_other_models =pd.DataFrame([['Logistic Regression', accuracy_logr],\n",
    "    ['Decision Tree', accuracy_dtc]], columns=['Method','Accuracy Score'])\n",
    "\n",
    "results_other_models"
   ]
  },
  {
   "cell_type": "markdown",
   "id": "351f1efa",
   "metadata": {},
   "source": [
    "The accuracy score and R-squared are two different evaluation metrics used to assess the performance of a model in different contexts.\n",
    "\n",
    "The accuracy score is commonly used in classification problems and measures the percentage of correctly classified instances out of all the instances in the dataset. In other words, it quantifies the proportion of predictions that the model got right.\n",
    "\n",
    "On the other hand, R-squared (also known as the coefficient of determination) is used in regression problems and measures the proportion of variance in the dependent variable that can be explained by the independent variables. In other words, it provides an estimate of how well the regression line (or model) fits the data.\n",
    "\n",
    "Therefore, accuracy score and R-squared are not directly comparable, as they apply to different types of problems and measure different aspects of model performance."
   ]
  },
  {
   "cell_type": "markdown",
   "id": "62c00b28",
   "metadata": {},
   "source": [
    "### Residuals"
   ]
  },
  {
   "cell_type": "code",
   "execution_count": 14,
   "id": "03d44e01",
   "metadata": {},
   "outputs": [
    {
     "data": {
      "text/plain": [
       "[<matplotlib.lines.Line2D at 0x7fb1e9532a30>]"
      ]
     },
     "execution_count": 14,
     "metadata": {},
     "output_type": "execute_result"
    },
    {
     "data": {
      "image/png": "[encoded data removed]",
      "text/plain": [
       "<Figure size 1400x400 with 3 Axes>"
      ]
     },
     "metadata": {},
     "output_type": "display_data"
    }
   ],
   "source": [
    "# Make an scatter plot y_pred vs y\n",
    "# What kind of plot you will get if all the all the predictions are ok?\n",
    "# A stright line\n",
    "\n",
    "fig, ax = plt.subplots(1,3,figsize=(14,4))\n",
    "ax[0].plot(y_red_pred, y_red_test, 'o')\n",
    "ax[0].set_xlabel(\"y_test\")\n",
    "ax[0].set_ylabel(\"y_pred\")\n",
    "ax[0].set_title(\"Test Set -Predicted vs real\")\n",
    "\n",
    "# Get a histogram of the residuals ie: y - y_pred.  Homoscdasticity\n",
    "# It resembles a normal distribution?\n",
    "ax[1].hist(y_red_test - y_red_pred)\n",
    "            # why here y_test - y_test_pred and below y_test_pred - y_test (as it will always be bigger by nature. ok, got that.)\n",
    "                    #         \n",
    "                    # which y_pred is this?\n",
    "                            # it is about the test y\n",
    "ax[1].set_xlabel(\"Test y-y_pred\")\n",
    "ax[1].set_title(\"Test Set Residual histogram\")\n",
    "\n",
    "\n",
    "ax[2].plot(y_red_pred, y_red_pred.to_numpy() - y_red_test.to_numpy(),\"o\")\n",
    "                                # here I want to see the negative ones to understand how it goes.\n",
    "    # y_lr_test_pred, \n",
    "ax[2].set_xlabel(\"predited\")\n",
    "ax[2].set_ylabel(\"residuals\")\n",
    "ax[2].set_title(\"Residuals by Predicted\")\n",
    "ax[2].plot(y_red_pred,np.zeros(len(y_red_pred)),linestyle='dashed')\n"
   ]
  },
  {
   "cell_type": "markdown",
   "id": "8c04e117",
   "metadata": {},
   "source": [
    "### Feature importance"
   ]
  },
  {
   "cell_type": "code",
   "execution_count": 15,
   "id": "51749fad",
   "metadata": {},
   "outputs": [
    {
     "data": {
      "text/html": [
       "<div>\n",
       "<style scoped>\n",
       "    .dataframe tbody tr th:only-of-type {\n",
       "        vertical-align: middle;\n",
       "    }\n",
       "\n",
       "    .dataframe tbody tr th {\n",
       "        vertical-align: top;\n",
       "    }\n",
       "\n",
       "    .dataframe thead th {\n",
       "        text-align: right;\n",
       "    }\n",
       "</style>\n",
       "<table border=\"1\" class=\"dataframe\">\n",
       "  <thead>\n",
       "    <tr style=\"text-align: right;\">\n",
       "      <th></th>\n",
       "      <th>Attribute</th>\n",
       "      <th>Importance</th>\n",
       "    </tr>\n",
       "  </thead>\n",
       "  <tbody>\n",
       "    <tr>\n",
       "      <th>10</th>\n",
       "      <td>alcohol</td>\n",
       "      <td>0.296059</td>\n",
       "    </tr>\n",
       "    <tr>\n",
       "      <th>9</th>\n",
       "      <td>sulphates</td>\n",
       "      <td>0.168093</td>\n",
       "    </tr>\n",
       "    <tr>\n",
       "      <th>1</th>\n",
       "      <td>volatile_acidity</td>\n",
       "      <td>0.150969</td>\n",
       "    </tr>\n",
       "    <tr>\n",
       "      <th>7</th>\n",
       "      <td>density</td>\n",
       "      <td>0.111109</td>\n",
       "    </tr>\n",
       "    <tr>\n",
       "      <th>0</th>\n",
       "      <td>fixed_acidity</td>\n",
       "      <td>0.108709</td>\n",
       "    </tr>\n",
       "    <tr>\n",
       "      <th>8</th>\n",
       "      <td>pH</td>\n",
       "      <td>0.065824</td>\n",
       "    </tr>\n",
       "    <tr>\n",
       "      <th>6</th>\n",
       "      <td>total_sulfur_dioxide</td>\n",
       "      <td>0.061853</td>\n",
       "    </tr>\n",
       "    <tr>\n",
       "      <th>2</th>\n",
       "      <td>citric_acid</td>\n",
       "      <td>0.053289</td>\n",
       "    </tr>\n",
       "    <tr>\n",
       "      <th>5</th>\n",
       "      <td>free_sulfur_dioxide</td>\n",
       "      <td>0.042427</td>\n",
       "    </tr>\n",
       "    <tr>\n",
       "      <th>4</th>\n",
       "      <td>chlorides</td>\n",
       "      <td>0.036282</td>\n",
       "    </tr>\n",
       "    <tr>\n",
       "      <th>3</th>\n",
       "      <td>residual_sugar</td>\n",
       "      <td>0.028382</td>\n",
       "    </tr>\n",
       "  </tbody>\n",
       "</table>\n",
       "</div>"
      ],
      "text/plain": [
       "               Attribute  Importance\n",
       "10               alcohol    0.296059\n",
       "9              sulphates    0.168093\n",
       "1       volatile_acidity    0.150969\n",
       "7                density    0.111109\n",
       "0          fixed_acidity    0.108709\n",
       "8                     pH    0.065824\n",
       "6   total_sulfur_dioxide    0.061853\n",
       "2            citric_acid    0.053289\n",
       "5    free_sulfur_dioxide    0.042427\n",
       "4              chlorides    0.036282\n",
       "3         residual_sugar    0.028382"
      ]
     },
     "execution_count": 15,
     "metadata": {},
     "output_type": "execute_result"
    }
   ],
   "source": [
    "features_importances = pd.DataFrame(data={\n",
    "    'Attribute': X_red_train.columns,\n",
    "    'Importance': abs(lr.coef_.reshape(len(X_red_train.columns),))\n",
    "})\n",
    "\n",
    "features_importances = features_importances.sort_values(by='Importance', ascending=False)\n",
    "features_importances"
   ]
  },
  {
   "cell_type": "code",
   "execution_count": 24,
   "id": "d24812a9",
   "metadata": {},
   "outputs": [
    {
     "data": {
      "image/png": "[encoded data removed]",
      "text/plain": [
       "<Figure size 640x480 with 1 Axes>"
      ]
     },
     "metadata": {},
     "output_type": "display_data"
    }
   ],
   "source": [
    "sns.set_palette('Reds')\n",
    "plt.bar(x=features_importances['Attribute'].iloc[:10], height=features_importances['Importance'].iloc[:10])\n",
    "plt.title('Feature Importance Ranking Red Wine', size=12)\n",
    "plt.xticks(rotation='vertical')\n",
    "plt.show()"
   ]
  },
  {
   "cell_type": "code",
   "execution_count": 25,
   "id": "97740577",
   "metadata": {},
   "outputs": [
    {
     "data": {
      "image/png": "[encoded data removed]",
      "text/plain": [
       "<Figure size 640x480 with 1 Axes>"
      ]
     },
     "metadata": {},
     "output_type": "display_data"
    }
   ],
   "source": [
    "sns.set_palette('YlGnBu')\n",
    "\n",
    "plt.barh(y=features_importances['Attribute'].iloc[:10], width=features_importances['Importance'].iloc[:10])\n",
    "plt.title('Feature Importance Ranking White Wine', size=12)\n",
    "plt.yticks(rotation='horizontal')\n",
    "plt.show()\n"
   ]
  },
  {
   "cell_type": "code",
   "execution_count": 30,
   "id": "02002a69",
   "metadata": {},
   "outputs": [
    {
     "data": {
      "image/png": "[encoded data removed]",
      "text/plain": [
       "<Figure size 640x480 with 1 Axes>"
      ]
     },
     "metadata": {},
     "output_type": "display_data"
    }
   ],
   "source": [
    "sns.set_palette('Reds')\n",
    "\n",
    "# Sort the dataframe by Importance column in descending order\n",
    "features_importances = features_importances.sort_values('Importance', ascending=True)\n",
    "\n",
    "plt.barh(y=features_importances['Attribute'].iloc[:11], width=features_importances['Importance'].iloc[:11])\n",
    "plt.title('Feature Importance Ranking Red Wine', size=12)\n",
    "plt.yticks(rotation='horizontal')\n",
    "plt.show()\n"
   ]
  },
  {
   "cell_type": "markdown",
   "id": "b35d0fb0",
   "metadata": {},
   "source": [
    "# Model White"
   ]
  },
  {
   "cell_type": "code",
   "execution_count": null,
   "id": "80f146ea",
   "metadata": {},
   "outputs": [],
   "source": [
    "#X_white_train_pt_f_t = pt.fit_transform(X_white_train)\n",
    "#X_white_train = pd.DataFrame(X_white_train_pt_f_t)"
   ]
  },
  {
   "cell_type": "markdown",
   "id": "8c3f93c5",
   "metadata": {},
   "source": [
    "# y_train"
   ]
  },
  {
   "cell_type": "code",
   "execution_count": null,
   "id": "7b08c2e5",
   "metadata": {},
   "outputs": [],
   "source": [
    "#y_red_train_pt_f_t = pt.fit_transform(y_red_train)\n",
    "#y_red_train = pd.DataFrame(y_red_train_pt_f_t)"
   ]
  },
  {
   "cell_type": "code",
   "execution_count": null,
   "id": "c6af4440",
   "metadata": {},
   "outputs": [],
   "source": [
    "#y_white_train_pt_f_t = pt.fit_transform(y_white_train)\n",
    "#y_white_train = pd.DataFrame(y_white_train_pt_f_t)"
   ]
  },
  {
   "cell_type": "markdown",
   "id": "c9d69944",
   "metadata": {},
   "source": [
    "## X_test"
   ]
  },
  {
   "cell_type": "code",
   "execution_count": null,
   "id": "dec5ef18",
   "metadata": {},
   "outputs": [],
   "source": [
    "#X_red_test_pt_t = pt.transform(X_red_test)\n",
    "#X_red_test = pd.DataFrame(X_red_test_pt_t)"
   ]
  },
  {
   "cell_type": "code",
   "execution_count": null,
   "id": "c1599e01",
   "metadata": {},
   "outputs": [],
   "source": [
    "#X_white_test_pt_t = pt.transform(X_white_test)\n",
    "#X_white_test = pd.DataFrame(X_white_test_pt_t)"
   ]
  },
  {
   "cell_type": "markdown",
   "id": "a911c76a",
   "metadata": {},
   "source": [
    "# y_test"
   ]
  },
  {
   "cell_type": "code",
   "execution_count": null,
   "id": "ec348094",
   "metadata": {},
   "outputs": [],
   "source": [
    "#y_red_test_pt_t = pt.fit_transform(y_red_test)\n",
    "#y_red_test = pd.DataFrame(y_red_test_pt_t)"
   ]
  },
  {
   "cell_type": "code",
   "execution_count": null,
   "id": "0234d7fa",
   "metadata": {},
   "outputs": [],
   "source": [
    "#y_white_test_pt_t = pt.fit_transform(y_white_test)\n",
    "#y_white_test = pd.DataFrame(y_white_test_pt_t)"
   ]
  },
  {
   "cell_type": "markdown",
   "id": "0272380a",
   "metadata": {},
   "source": [
    "## Rename columns"
   ]
  },
  {
   "cell_type": "code",
   "execution_count": null,
   "id": "f4fdaeb6",
   "metadata": {},
   "outputs": [],
   "source": [
    "def rename_columns(x):\n",
    "    x.rename(columns={0:'fixed_acidity',1:'volatile_acidity', 2:\"citric_acid\", 3:'residual_sugar', 4: 'chlorides', 5:\"free_sulfur_dioxide\", 6:\"total_sulfur_dioxide\", 7:'density', 8:'ph', 9:'sulphates', 10:'alcohol'}, inplace=True )\n",
    "    return x"
   ]
  },
  {
   "cell_type": "code",
   "execution_count": null,
   "id": "7644b470",
   "metadata": {},
   "outputs": [],
   "source": [
    "def rename_columns_y(x):\n",
    "    x.rename(columns={0:'quality'}, inplace=True )\n",
    "    return x"
   ]
  },
  {
   "cell_type": "code",
   "execution_count": null,
   "id": "e9da6355",
   "metadata": {},
   "outputs": [],
   "source": [
    "rename_columns(X_red_train)\n",
    "rename_columns_y(y_red_train)\n",
    "rename_columns(X_red_test)\n",
    "rename_columns_y(y_red_test)"
   ]
  },
  {
   "cell_type": "code",
   "execution_count": null,
   "id": "787d586f",
   "metadata": {},
   "outputs": [],
   "source": [
    "rename_columns(X_white_train)\n",
    "rename_columns_y(y_white_train)\n",
    "rename_columns(X_white_test)\n",
    "rename_columns_y(y_white_test)"
   ]
  },
  {
   "cell_type": "markdown",
   "id": "83664cfa",
   "metadata": {},
   "source": [
    "# Round"
   ]
  },
  {
   "cell_type": "code",
   "execution_count": null,
   "id": "e3e4e212",
   "metadata": {},
   "outputs": [],
   "source": [
    "X_red_train.round(decimals=3)\n",
    "y_red_train.round(decimals=3)\n",
    "X_red_test.round(decimals=3)\n",
    "y_red_test.round(decimals=3)"
   ]
  },
  {
   "cell_type": "code",
   "execution_count": null,
   "id": "89867012",
   "metadata": {},
   "outputs": [],
   "source": [
    "X_white_train.round(decimals=3)\n",
    "y_white_train.round(decimals=3)\n",
    "X_white_test.round(decimals=3)\n",
    "y_white_test.round(decimals=3)"
   ]
  }
 ],
 "metadata": {
  "kernelspec": {
   "display_name": "Python 3 (ipykernel)",
   "language": "python",
   "name": "python3"
  },
  "language_info": {
   "codemirror_mode": {
    "name": "ipython",
    "version": 3
   },
   "file_extension": ".py",
   "mimetype": "text/x-python",
   "name": "python",
   "nbconvert_exporter": "python",
   "pygments_lexer": "ipython3",
   "version": "3.9.13"
  }
 },
 "nbformat": 4,
 "nbformat_minor": 5
}
