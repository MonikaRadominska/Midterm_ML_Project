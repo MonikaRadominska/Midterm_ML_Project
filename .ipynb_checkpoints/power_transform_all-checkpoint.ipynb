{
 "cells": [
  {
   "cell_type": "code",
   "execution_count": 1,
   "id": "a0496512",
   "metadata": {},
   "outputs": [],
   "source": [
    "import numpy as np\n",
    "import pandas as pd\n",
    "import matplotlib.pyplot as plt\n",
    "%matplotlib inline\n",
    "import seaborn as sns\n",
    "from sklearn.preprocessing import PowerTransformer\n",
    "from sklearn.preprocessing import StandardScaler\n",
    "from sklearn.compose import ColumnTransformer\n",
    "from sklearn.linear_model import LinearRegression\n",
    "from sklearn.model_selection import train_test_split\n",
    "import statsmodels.api as sm\n",
    "from sklearn.metrics import r2_score\n",
    "from sklearn.metrics import mean_squared_error as mse\n",
    "from sklearn.metrics import mean_absolute_error as mae"
   ]
  },
  {
   "cell_type": "code",
   "execution_count": 2,
   "id": "35875029",
   "metadata": {},
   "outputs": [],
   "source": [
    "red = pd.read_csv('data/red_cleaned_final.csv')\n",
    "white = pd.read_csv('data/white_cleaned_final.csv')"
   ]
  },
  {
   "cell_type": "code",
   "execution_count": 3,
   "id": "48d3e6ab",
   "metadata": {},
   "outputs": [],
   "source": [
    "red = red.drop(['Unnamed: 0'], axis = 1)\n",
    "white = white.drop(['Unnamed: 0'], axis = 1)"
   ]
  },
  {
   "cell_type": "markdown",
   "id": "cc700fd4",
   "metadata": {},
   "source": [
    "# X - y Split"
   ]
  },
  {
   "cell_type": "code",
   "execution_count": 4,
   "id": "e3aac596",
   "metadata": {},
   "outputs": [],
   "source": [
    "X_red = red.drop('quality', axis=1)\n",
    "y_red = red.quality\n",
    "\n",
    "X_white = white.drop('quality', axis=1)\n",
    "y_white = white.quality"
   ]
  },
  {
   "cell_type": "markdown",
   "id": "9f3be229",
   "metadata": {},
   "source": [
    "# Train - Test Split"
   ]
  },
  {
   "cell_type": "code",
   "execution_count": 5,
   "id": "baed45e1",
   "metadata": {},
   "outputs": [],
   "source": [
    "X_red_train, X_red_test, y_red_train, y_red_test = train_test_split(X_red, y_red, test_size=0.3, random_state=100)\n",
    "X_red_train = pd.DataFrame(X_red_train)\n",
    "X_red_test = pd.DataFrame(X_red_test)"
   ]
  },
  {
   "cell_type": "code",
   "execution_count": null,
   "id": "7dc3f417",
   "metadata": {},
   "outputs": [],
   "source": [
    "X_white_train, X_white_test, y_white_train, y_white_test = train_test_split(X_white, y_white, test_size=0.3, random_state=100)\n",
    "X_white_train = pd.DataFrame(X_white_train)\n",
    "X_white_test = pd.DataFrame(X_white_test)"
   ]
  },
  {
   "cell_type": "markdown",
   "id": "7fa2f917",
   "metadata": {},
   "source": [
    "# Transform and scale"
   ]
  },
  {
   "cell_type": "markdown",
   "id": "834740f2",
   "metadata": {},
   "source": [
    "## Powertransformer and Standard Scaler"
   ]
  },
  {
   "cell_type": "markdown",
   "id": "705baa77",
   "metadata": {},
   "source": [
    "## X_train"
   ]
  },
  {
   "cell_type": "code",
   "execution_count": 6,
   "id": "0bf13f20",
   "metadata": {},
   "outputs": [],
   "source": [
    "pt = PowerTransformer(method='yeo-johnson', standardize=True)\n",
    "ss = StandardScaler()"
   ]
  },
  {
   "cell_type": "code",
   "execution_count": 7,
   "id": "0ba36657",
   "metadata": {},
   "outputs": [],
   "source": [
    "# transform X_train\n",
    "X_red_train_pt_f_t = pt.fit_transform(X_red_train)"
   ]
  },
  {
   "cell_type": "code",
   "execution_count": null,
   "id": "0b3f8d0e",
   "metadata": {},
   "outputs": [],
   "source": [
    "X_white_train_pt_f_t = pt.fit_transform(X_white_train)"
   ]
  },
  {
   "cell_type": "code",
   "execution_count": 8,
   "id": "e5dde742",
   "metadata": {},
   "outputs": [],
   "source": [
    "# make a dataframe for X_train after replacing columns\n",
    "X_red_train = pd.DataFrame(X_red_train_pt_f_t)"
   ]
  },
  {
   "cell_type": "code",
   "execution_count": null,
   "id": "94e954de",
   "metadata": {},
   "outputs": [],
   "source": [
    "X_white_train = pd.DataFrame(X_white_train_pt_f_t)"
   ]
  },
  {
   "cell_type": "markdown",
   "id": "f2190966",
   "metadata": {},
   "source": [
    "# y_train"
   ]
  },
  {
   "cell_type": "code",
   "execution_count": 9,
   "id": "69223266",
   "metadata": {},
   "outputs": [],
   "source": [
    "y_red_train = pd.DataFrame(y_red_train)"
   ]
  },
  {
   "cell_type": "code",
   "execution_count": 10,
   "id": "1ec18e33",
   "metadata": {},
   "outputs": [],
   "source": [
    "y_red_train_pt_f_t = pt.fit_transform(y_red_train)"
   ]
  },
  {
   "cell_type": "code",
   "execution_count": 24,
   "id": "7906e5a7",
   "metadata": {},
   "outputs": [],
   "source": [
    "y_red_train = pd.DataFrame(y_red_train_pt_f_t)"
   ]
  },
  {
   "cell_type": "code",
   "execution_count": 25,
   "id": "09106a07",
   "metadata": {},
   "outputs": [
    {
     "data": {
      "text/html": [
       "<div>\n",
       "<style scoped>\n",
       "    .dataframe tbody tr th:only-of-type {\n",
       "        vertical-align: middle;\n",
       "    }\n",
       "\n",
       "    .dataframe tbody tr th {\n",
       "        vertical-align: top;\n",
       "    }\n",
       "\n",
       "    .dataframe thead th {\n",
       "        text-align: right;\n",
       "    }\n",
       "</style>\n",
       "<table border=\"1\" class=\"dataframe\">\n",
       "  <thead>\n",
       "    <tr style=\"text-align: right;\">\n",
       "      <th></th>\n",
       "      <th>quality</th>\n",
       "    </tr>\n",
       "  </thead>\n",
       "  <tbody>\n",
       "    <tr>\n",
       "      <th>0</th>\n",
       "      <td>-0.748486</td>\n",
       "    </tr>\n",
       "    <tr>\n",
       "      <th>1</th>\n",
       "      <td>0.465427</td>\n",
       "    </tr>\n",
       "    <tr>\n",
       "      <th>2</th>\n",
       "      <td>-0.748486</td>\n",
       "    </tr>\n",
       "    <tr>\n",
       "      <th>3</th>\n",
       "      <td>-0.748486</td>\n",
       "    </tr>\n",
       "    <tr>\n",
       "      <th>4</th>\n",
       "      <td>1.602111</td>\n",
       "    </tr>\n",
       "    <tr>\n",
       "      <th>...</th>\n",
       "      <td>...</td>\n",
       "    </tr>\n",
       "    <tr>\n",
       "      <th>884</th>\n",
       "      <td>0.465427</td>\n",
       "    </tr>\n",
       "    <tr>\n",
       "      <th>885</th>\n",
       "      <td>1.602111</td>\n",
       "    </tr>\n",
       "    <tr>\n",
       "      <th>886</th>\n",
       "      <td>1.602111</td>\n",
       "    </tr>\n",
       "    <tr>\n",
       "      <th>887</th>\n",
       "      <td>-0.748486</td>\n",
       "    </tr>\n",
       "    <tr>\n",
       "      <th>888</th>\n",
       "      <td>1.602111</td>\n",
       "    </tr>\n",
       "  </tbody>\n",
       "</table>\n",
       "<p>889 rows × 1 columns</p>\n",
       "</div>"
      ],
      "text/plain": [
       "      quality\n",
       "0   -0.748486\n",
       "1    0.465427\n",
       "2   -0.748486\n",
       "3   -0.748486\n",
       "4    1.602111\n",
       "..        ...\n",
       "884  0.465427\n",
       "885  1.602111\n",
       "886  1.602111\n",
       "887 -0.748486\n",
       "888  1.602111\n",
       "\n",
       "[889 rows x 1 columns]"
      ]
     },
     "execution_count": 25,
     "metadata": {},
     "output_type": "execute_result"
    }
   ],
   "source": [
    "y_red_train"
   ]
  },
  {
   "cell_type": "markdown",
   "id": "c9d69944",
   "metadata": {},
   "source": [
    "## X_test"
   ]
  },
  {
   "cell_type": "code",
   "execution_count": null,
   "id": "dec5ef18",
   "metadata": {},
   "outputs": [],
   "source": [
    "# transform X_test\n",
    "X_red_test_pt_t = pt.transform(X_red_test)"
   ]
  },
  {
   "cell_type": "code",
   "execution_count": null,
   "id": "5b417b38",
   "metadata": {},
   "outputs": [],
   "source": [
    "X_white_test_pt_t = pt.transform(X_white_test)"
   ]
  },
  {
   "cell_type": "code",
   "execution_count": null,
   "id": "20c793e1",
   "metadata": {
    "scrolled": true
   },
   "outputs": [],
   "source": [
    "# make a dataframe for X_train after replacing columns\n",
    "X_red_test = pd.DataFrame(X_red_test_pt_t)"
   ]
  },
  {
   "cell_type": "code",
   "execution_count": null,
   "id": "4f5ab387",
   "metadata": {},
   "outputs": [],
   "source": [
    "X_white_test = pd.DataFrame(X_white_test_pt_t)"
   ]
  },
  {
   "cell_type": "markdown",
   "id": "15145f89",
   "metadata": {},
   "source": [
    "# y_test"
   ]
  },
  {
   "cell_type": "code",
   "execution_count": null,
   "id": "e2e18f31",
   "metadata": {},
   "outputs": [],
   "source": [
    "y_red_test = pd.DataFrame(y_red_test)"
   ]
  },
  {
   "cell_type": "code",
   "execution_count": null,
   "id": "3da10fab",
   "metadata": {},
   "outputs": [],
   "source": [
    "y_red_test_pt_f_t = pt.fit_transform(y_red_test)"
   ]
  },
  {
   "cell_type": "markdown",
   "id": "30b1342b",
   "metadata": {},
   "source": [
    "## Rename columns"
   ]
  },
  {
   "cell_type": "code",
   "execution_count": 11,
   "id": "f4fdaeb6",
   "metadata": {},
   "outputs": [],
   "source": [
    "def rename_columns(x):\n",
    "    x.rename(columns={0:'fixed_acidity',1:'volatile_acidity', 2:\"citric_acid\", 3:'residual_sugar', 4: 'chlorides', 5:\"free_sulfur_dioxide\", 6:\"total_sulfur_dioxide\", 7:'density', 8:'ph', 9:'sulphates', 10:'alcohol'}, inplace=True )\n",
    "    return x"
   ]
  },
  {
   "cell_type": "code",
   "execution_count": 19,
   "id": "d2be11f8",
   "metadata": {},
   "outputs": [],
   "source": [
    "def rename_columns_y(x):\n",
    "    x.rename(columns={0:'quality'}, inplace=True )\n",
    "    return x"
   ]
  },
  {
   "cell_type": "code",
   "execution_count": 12,
   "id": "90eab083",
   "metadata": {
    "collapsed": true
   },
   "outputs": [
    {
     "data": {
      "text/html": [
       "<div>\n",
       "<style scoped>\n",
       "    .dataframe tbody tr th:only-of-type {\n",
       "        vertical-align: middle;\n",
       "    }\n",
       "\n",
       "    .dataframe tbody tr th {\n",
       "        vertical-align: top;\n",
       "    }\n",
       "\n",
       "    .dataframe thead th {\n",
       "        text-align: right;\n",
       "    }\n",
       "</style>\n",
       "<table border=\"1\" class=\"dataframe\">\n",
       "  <thead>\n",
       "    <tr style=\"text-align: right;\">\n",
       "      <th></th>\n",
       "      <th>fixed_acidity</th>\n",
       "      <th>volatile_acidity</th>\n",
       "      <th>citric_acid</th>\n",
       "      <th>residual_sugar</th>\n",
       "      <th>chlorides</th>\n",
       "      <th>free_sulfur_dioxide</th>\n",
       "      <th>total_sulfur_dioxide</th>\n",
       "      <th>density</th>\n",
       "      <th>ph</th>\n",
       "      <th>sulphates</th>\n",
       "      <th>alcohol</th>\n",
       "    </tr>\n",
       "  </thead>\n",
       "  <tbody>\n",
       "    <tr>\n",
       "      <th>0</th>\n",
       "      <td>-0.171108</td>\n",
       "      <td>1.532116</td>\n",
       "      <td>0.644498</td>\n",
       "      <td>-0.259667</td>\n",
       "      <td>2.156996</td>\n",
       "      <td>1.334259</td>\n",
       "      <td>-0.235780</td>\n",
       "      <td>0.469226</td>\n",
       "      <td>-0.034549</td>\n",
       "      <td>-1.458802</td>\n",
       "      <td>0.540050</td>\n",
       "    </tr>\n",
       "    <tr>\n",
       "      <th>1</th>\n",
       "      <td>-0.373911</td>\n",
       "      <td>0.076375</td>\n",
       "      <td>0.027364</td>\n",
       "      <td>-1.205047</td>\n",
       "      <td>-0.130326</td>\n",
       "      <td>-0.840992</td>\n",
       "      <td>-1.034269</td>\n",
       "      <td>-0.338509</td>\n",
       "      <td>0.134460</td>\n",
       "      <td>0.725316</td>\n",
       "      <td>1.256374</td>\n",
       "    </tr>\n",
       "    <tr>\n",
       "      <th>2</th>\n",
       "      <td>-0.237370</td>\n",
       "      <td>0.620289</td>\n",
       "      <td>1.677730</td>\n",
       "      <td>0.306365</td>\n",
       "      <td>1.026776</td>\n",
       "      <td>0.303805</td>\n",
       "      <td>0.625935</td>\n",
       "      <td>0.204339</td>\n",
       "      <td>-0.937600</td>\n",
       "      <td>-1.256574</td>\n",
       "      <td>-0.961858</td>\n",
       "    </tr>\n",
       "    <tr>\n",
       "      <th>3</th>\n",
       "      <td>0.637484</td>\n",
       "      <td>-0.280198</td>\n",
       "      <td>0.644498</td>\n",
       "      <td>0.656507</td>\n",
       "      <td>0.493257</td>\n",
       "      <td>1.098564</td>\n",
       "      <td>1.393805</td>\n",
       "      <td>-1.114835</td>\n",
       "      <td>-1.175525</td>\n",
       "      <td>-0.121991</td>\n",
       "      <td>-1.116999</td>\n",
       "    </tr>\n",
       "    <tr>\n",
       "      <th>4</th>\n",
       "      <td>2.047002</td>\n",
       "      <td>0.594459</td>\n",
       "      <td>2.362246</td>\n",
       "      <td>0.253390</td>\n",
       "      <td>-0.894472</td>\n",
       "      <td>0.203698</td>\n",
       "      <td>3.000014</td>\n",
       "      <td>-1.702509</td>\n",
       "      <td>0.783085</td>\n",
       "      <td>1.804242</td>\n",
       "      <td>-0.282828</td>\n",
       "    </tr>\n",
       "    <tr>\n",
       "      <th>...</th>\n",
       "      <td>...</td>\n",
       "      <td>...</td>\n",
       "      <td>...</td>\n",
       "      <td>...</td>\n",
       "      <td>...</td>\n",
       "      <td>...</td>\n",
       "      <td>...</td>\n",
       "      <td>...</td>\n",
       "      <td>...</td>\n",
       "      <td>...</td>\n",
       "      <td>...</td>\n",
       "    </tr>\n",
       "    <tr>\n",
       "      <th>884</th>\n",
       "      <td>-0.042397</td>\n",
       "      <td>0.409761</td>\n",
       "      <td>-0.374677</td>\n",
       "      <td>1.785561</td>\n",
       "      <td>-1.923265</td>\n",
       "      <td>-2.194028</td>\n",
       "      <td>-1.143042</td>\n",
       "      <td>-0.616698</td>\n",
       "      <td>-0.404953</td>\n",
       "      <td>-0.513463</td>\n",
       "      <td>0.860492</td>\n",
       "    </tr>\n",
       "    <tr>\n",
       "      <th>885</th>\n",
       "      <td>-0.373911</td>\n",
       "      <td>0.076375</td>\n",
       "      <td>-0.606628</td>\n",
       "      <td>0.358579</td>\n",
       "      <td>-0.130326</td>\n",
       "      <td>-0.058551</td>\n",
       "      <td>0.084213</td>\n",
       "      <td>0.469226</td>\n",
       "      <td>-0.034549</td>\n",
       "      <td>-0.513463</td>\n",
       "      <td>-0.961858</td>\n",
       "    </tr>\n",
       "    <tr>\n",
       "      <th>886</th>\n",
       "      <td>2.768638</td>\n",
       "      <td>0.944159</td>\n",
       "      <td>1.619879</td>\n",
       "      <td>1.057887</td>\n",
       "      <td>-1.098232</td>\n",
       "      <td>0.237787</td>\n",
       "      <td>3.537427</td>\n",
       "      <td>-2.623072</td>\n",
       "      <td>0.443773</td>\n",
       "      <td>2.165553</td>\n",
       "      <td>0.860492</td>\n",
       "    </tr>\n",
       "    <tr>\n",
       "      <th>887</th>\n",
       "      <td>-0.898842</td>\n",
       "      <td>1.359026</td>\n",
       "      <td>1.090177</td>\n",
       "      <td>1.140283</td>\n",
       "      <td>-0.712476</td>\n",
       "      <td>-0.648968</td>\n",
       "      <td>-0.078461</td>\n",
       "      <td>0.922703</td>\n",
       "      <td>-0.608019</td>\n",
       "      <td>-1.527844</td>\n",
       "      <td>0.451551</td>\n",
       "    </tr>\n",
       "    <tr>\n",
       "      <th>888</th>\n",
       "      <td>0.586166</td>\n",
       "      <td>-1.441573</td>\n",
       "      <td>-0.266929</td>\n",
       "      <td>-0.985743</td>\n",
       "      <td>-0.010397</td>\n",
       "      <td>-0.425808</td>\n",
       "      <td>-0.805952</td>\n",
       "      <td>-0.338509</td>\n",
       "      <td>1.381618</td>\n",
       "      <td>0.392471</td>\n",
       "      <td>1.196516</td>\n",
       "    </tr>\n",
       "  </tbody>\n",
       "</table>\n",
       "<p>889 rows × 11 columns</p>\n",
       "</div>"
      ],
      "text/plain": [
       "     fixed_acidity  volatile_acidity  citric_acid  residual_sugar  chlorides  \\\n",
       "0        -0.171108          1.532116     0.644498       -0.259667   2.156996   \n",
       "1        -0.373911          0.076375     0.027364       -1.205047  -0.130326   \n",
       "2        -0.237370          0.620289     1.677730        0.306365   1.026776   \n",
       "3         0.637484         -0.280198     0.644498        0.656507   0.493257   \n",
       "4         2.047002          0.594459     2.362246        0.253390  -0.894472   \n",
       "..             ...               ...          ...             ...        ...   \n",
       "884      -0.042397          0.409761    -0.374677        1.785561  -1.923265   \n",
       "885      -0.373911          0.076375    -0.606628        0.358579  -0.130326   \n",
       "886       2.768638          0.944159     1.619879        1.057887  -1.098232   \n",
       "887      -0.898842          1.359026     1.090177        1.140283  -0.712476   \n",
       "888       0.586166         -1.441573    -0.266929       -0.985743  -0.010397   \n",
       "\n",
       "     free_sulfur_dioxide  total_sulfur_dioxide   density        ph  sulphates  \\\n",
       "0               1.334259             -0.235780  0.469226 -0.034549  -1.458802   \n",
       "1              -0.840992             -1.034269 -0.338509  0.134460   0.725316   \n",
       "2               0.303805              0.625935  0.204339 -0.937600  -1.256574   \n",
       "3               1.098564              1.393805 -1.114835 -1.175525  -0.121991   \n",
       "4               0.203698              3.000014 -1.702509  0.783085   1.804242   \n",
       "..                   ...                   ...       ...       ...        ...   \n",
       "884            -2.194028             -1.143042 -0.616698 -0.404953  -0.513463   \n",
       "885            -0.058551              0.084213  0.469226 -0.034549  -0.513463   \n",
       "886             0.237787              3.537427 -2.623072  0.443773   2.165553   \n",
       "887            -0.648968             -0.078461  0.922703 -0.608019  -1.527844   \n",
       "888            -0.425808             -0.805952 -0.338509  1.381618   0.392471   \n",
       "\n",
       "      alcohol  \n",
       "0    0.540050  \n",
       "1    1.256374  \n",
       "2   -0.961858  \n",
       "3   -1.116999  \n",
       "4   -0.282828  \n",
       "..        ...  \n",
       "884  0.860492  \n",
       "885 -0.961858  \n",
       "886  0.860492  \n",
       "887  0.451551  \n",
       "888  1.196516  \n",
       "\n",
       "[889 rows x 11 columns]"
      ]
     },
     "execution_count": 12,
     "metadata": {},
     "output_type": "execute_result"
    }
   ],
   "source": [
    "rename_columns(X_red_train)"
   ]
  },
  {
   "cell_type": "code",
   "execution_count": 26,
   "id": "1760ff16",
   "metadata": {},
   "outputs": [
    {
     "data": {
      "text/html": [
       "<div>\n",
       "<style scoped>\n",
       "    .dataframe tbody tr th:only-of-type {\n",
       "        vertical-align: middle;\n",
       "    }\n",
       "\n",
       "    .dataframe tbody tr th {\n",
       "        vertical-align: top;\n",
       "    }\n",
       "\n",
       "    .dataframe thead th {\n",
       "        text-align: right;\n",
       "    }\n",
       "</style>\n",
       "<table border=\"1\" class=\"dataframe\">\n",
       "  <thead>\n",
       "    <tr style=\"text-align: right;\">\n",
       "      <th></th>\n",
       "      <th>quality</th>\n",
       "    </tr>\n",
       "  </thead>\n",
       "  <tbody>\n",
       "    <tr>\n",
       "      <th>0</th>\n",
       "      <td>-0.748486</td>\n",
       "    </tr>\n",
       "    <tr>\n",
       "      <th>1</th>\n",
       "      <td>0.465427</td>\n",
       "    </tr>\n",
       "    <tr>\n",
       "      <th>2</th>\n",
       "      <td>-0.748486</td>\n",
       "    </tr>\n",
       "    <tr>\n",
       "      <th>3</th>\n",
       "      <td>-0.748486</td>\n",
       "    </tr>\n",
       "    <tr>\n",
       "      <th>4</th>\n",
       "      <td>1.602111</td>\n",
       "    </tr>\n",
       "    <tr>\n",
       "      <th>...</th>\n",
       "      <td>...</td>\n",
       "    </tr>\n",
       "    <tr>\n",
       "      <th>884</th>\n",
       "      <td>0.465427</td>\n",
       "    </tr>\n",
       "    <tr>\n",
       "      <th>885</th>\n",
       "      <td>1.602111</td>\n",
       "    </tr>\n",
       "    <tr>\n",
       "      <th>886</th>\n",
       "      <td>1.602111</td>\n",
       "    </tr>\n",
       "    <tr>\n",
       "      <th>887</th>\n",
       "      <td>-0.748486</td>\n",
       "    </tr>\n",
       "    <tr>\n",
       "      <th>888</th>\n",
       "      <td>1.602111</td>\n",
       "    </tr>\n",
       "  </tbody>\n",
       "</table>\n",
       "<p>889 rows × 1 columns</p>\n",
       "</div>"
      ],
      "text/plain": [
       "      quality\n",
       "0   -0.748486\n",
       "1    0.465427\n",
       "2   -0.748486\n",
       "3   -0.748486\n",
       "4    1.602111\n",
       "..        ...\n",
       "884  0.465427\n",
       "885  1.602111\n",
       "886  1.602111\n",
       "887 -0.748486\n",
       "888  1.602111\n",
       "\n",
       "[889 rows x 1 columns]"
      ]
     },
     "execution_count": 26,
     "metadata": {},
     "output_type": "execute_result"
    }
   ],
   "source": [
    "rename_columns_y(y_red_train)"
   ]
  },
  {
   "cell_type": "code",
   "execution_count": null,
   "id": "6bf229ee",
   "metadata": {},
   "outputs": [],
   "source": [
    "rename_columns(X_red_test)"
   ]
  },
  {
   "cell_type": "code",
   "execution_count": null,
   "id": "d90b7f2f",
   "metadata": {},
   "outputs": [],
   "source": [
    "rename_columns(X_white_train)\n",
    "rename_columns(X_white_test)"
   ]
  },
  {
   "cell_type": "markdown",
   "id": "7dec6f38",
   "metadata": {},
   "source": [
    "# Round"
   ]
  },
  {
   "cell_type": "code",
   "execution_count": 13,
   "id": "e3e4e212",
   "metadata": {
    "collapsed": true
   },
   "outputs": [
    {
     "data": {
      "text/html": [
       "<div>\n",
       "<style scoped>\n",
       "    .dataframe tbody tr th:only-of-type {\n",
       "        vertical-align: middle;\n",
       "    }\n",
       "\n",
       "    .dataframe tbody tr th {\n",
       "        vertical-align: top;\n",
       "    }\n",
       "\n",
       "    .dataframe thead th {\n",
       "        text-align: right;\n",
       "    }\n",
       "</style>\n",
       "<table border=\"1\" class=\"dataframe\">\n",
       "  <thead>\n",
       "    <tr style=\"text-align: right;\">\n",
       "      <th></th>\n",
       "      <th>fixed_acidity</th>\n",
       "      <th>volatile_acidity</th>\n",
       "      <th>citric_acid</th>\n",
       "      <th>residual_sugar</th>\n",
       "      <th>chlorides</th>\n",
       "      <th>free_sulfur_dioxide</th>\n",
       "      <th>total_sulfur_dioxide</th>\n",
       "      <th>density</th>\n",
       "      <th>ph</th>\n",
       "      <th>sulphates</th>\n",
       "      <th>alcohol</th>\n",
       "    </tr>\n",
       "  </thead>\n",
       "  <tbody>\n",
       "    <tr>\n",
       "      <th>0</th>\n",
       "      <td>-0.171</td>\n",
       "      <td>1.532</td>\n",
       "      <td>0.644</td>\n",
       "      <td>-0.260</td>\n",
       "      <td>2.157</td>\n",
       "      <td>1.334</td>\n",
       "      <td>-0.236</td>\n",
       "      <td>0.469</td>\n",
       "      <td>-0.035</td>\n",
       "      <td>-1.459</td>\n",
       "      <td>0.540</td>\n",
       "    </tr>\n",
       "    <tr>\n",
       "      <th>1</th>\n",
       "      <td>-0.374</td>\n",
       "      <td>0.076</td>\n",
       "      <td>0.027</td>\n",
       "      <td>-1.205</td>\n",
       "      <td>-0.130</td>\n",
       "      <td>-0.841</td>\n",
       "      <td>-1.034</td>\n",
       "      <td>-0.339</td>\n",
       "      <td>0.134</td>\n",
       "      <td>0.725</td>\n",
       "      <td>1.256</td>\n",
       "    </tr>\n",
       "    <tr>\n",
       "      <th>2</th>\n",
       "      <td>-0.237</td>\n",
       "      <td>0.620</td>\n",
       "      <td>1.678</td>\n",
       "      <td>0.306</td>\n",
       "      <td>1.027</td>\n",
       "      <td>0.304</td>\n",
       "      <td>0.626</td>\n",
       "      <td>0.204</td>\n",
       "      <td>-0.938</td>\n",
       "      <td>-1.257</td>\n",
       "      <td>-0.962</td>\n",
       "    </tr>\n",
       "    <tr>\n",
       "      <th>3</th>\n",
       "      <td>0.637</td>\n",
       "      <td>-0.280</td>\n",
       "      <td>0.644</td>\n",
       "      <td>0.657</td>\n",
       "      <td>0.493</td>\n",
       "      <td>1.099</td>\n",
       "      <td>1.394</td>\n",
       "      <td>-1.115</td>\n",
       "      <td>-1.176</td>\n",
       "      <td>-0.122</td>\n",
       "      <td>-1.117</td>\n",
       "    </tr>\n",
       "    <tr>\n",
       "      <th>4</th>\n",
       "      <td>2.047</td>\n",
       "      <td>0.594</td>\n",
       "      <td>2.362</td>\n",
       "      <td>0.253</td>\n",
       "      <td>-0.894</td>\n",
       "      <td>0.204</td>\n",
       "      <td>3.000</td>\n",
       "      <td>-1.703</td>\n",
       "      <td>0.783</td>\n",
       "      <td>1.804</td>\n",
       "      <td>-0.283</td>\n",
       "    </tr>\n",
       "    <tr>\n",
       "      <th>...</th>\n",
       "      <td>...</td>\n",
       "      <td>...</td>\n",
       "      <td>...</td>\n",
       "      <td>...</td>\n",
       "      <td>...</td>\n",
       "      <td>...</td>\n",
       "      <td>...</td>\n",
       "      <td>...</td>\n",
       "      <td>...</td>\n",
       "      <td>...</td>\n",
       "      <td>...</td>\n",
       "    </tr>\n",
       "    <tr>\n",
       "      <th>884</th>\n",
       "      <td>-0.042</td>\n",
       "      <td>0.410</td>\n",
       "      <td>-0.375</td>\n",
       "      <td>1.786</td>\n",
       "      <td>-1.923</td>\n",
       "      <td>-2.194</td>\n",
       "      <td>-1.143</td>\n",
       "      <td>-0.617</td>\n",
       "      <td>-0.405</td>\n",
       "      <td>-0.513</td>\n",
       "      <td>0.860</td>\n",
       "    </tr>\n",
       "    <tr>\n",
       "      <th>885</th>\n",
       "      <td>-0.374</td>\n",
       "      <td>0.076</td>\n",
       "      <td>-0.607</td>\n",
       "      <td>0.359</td>\n",
       "      <td>-0.130</td>\n",
       "      <td>-0.059</td>\n",
       "      <td>0.084</td>\n",
       "      <td>0.469</td>\n",
       "      <td>-0.035</td>\n",
       "      <td>-0.513</td>\n",
       "      <td>-0.962</td>\n",
       "    </tr>\n",
       "    <tr>\n",
       "      <th>886</th>\n",
       "      <td>2.769</td>\n",
       "      <td>0.944</td>\n",
       "      <td>1.620</td>\n",
       "      <td>1.058</td>\n",
       "      <td>-1.098</td>\n",
       "      <td>0.238</td>\n",
       "      <td>3.537</td>\n",
       "      <td>-2.623</td>\n",
       "      <td>0.444</td>\n",
       "      <td>2.166</td>\n",
       "      <td>0.860</td>\n",
       "    </tr>\n",
       "    <tr>\n",
       "      <th>887</th>\n",
       "      <td>-0.899</td>\n",
       "      <td>1.359</td>\n",
       "      <td>1.090</td>\n",
       "      <td>1.140</td>\n",
       "      <td>-0.712</td>\n",
       "      <td>-0.649</td>\n",
       "      <td>-0.078</td>\n",
       "      <td>0.923</td>\n",
       "      <td>-0.608</td>\n",
       "      <td>-1.528</td>\n",
       "      <td>0.452</td>\n",
       "    </tr>\n",
       "    <tr>\n",
       "      <th>888</th>\n",
       "      <td>0.586</td>\n",
       "      <td>-1.442</td>\n",
       "      <td>-0.267</td>\n",
       "      <td>-0.986</td>\n",
       "      <td>-0.010</td>\n",
       "      <td>-0.426</td>\n",
       "      <td>-0.806</td>\n",
       "      <td>-0.339</td>\n",
       "      <td>1.382</td>\n",
       "      <td>0.392</td>\n",
       "      <td>1.197</td>\n",
       "    </tr>\n",
       "  </tbody>\n",
       "</table>\n",
       "<p>889 rows × 11 columns</p>\n",
       "</div>"
      ],
      "text/plain": [
       "     fixed_acidity  volatile_acidity  citric_acid  residual_sugar  chlorides  \\\n",
       "0           -0.171             1.532        0.644          -0.260      2.157   \n",
       "1           -0.374             0.076        0.027          -1.205     -0.130   \n",
       "2           -0.237             0.620        1.678           0.306      1.027   \n",
       "3            0.637            -0.280        0.644           0.657      0.493   \n",
       "4            2.047             0.594        2.362           0.253     -0.894   \n",
       "..             ...               ...          ...             ...        ...   \n",
       "884         -0.042             0.410       -0.375           1.786     -1.923   \n",
       "885         -0.374             0.076       -0.607           0.359     -0.130   \n",
       "886          2.769             0.944        1.620           1.058     -1.098   \n",
       "887         -0.899             1.359        1.090           1.140     -0.712   \n",
       "888          0.586            -1.442       -0.267          -0.986     -0.010   \n",
       "\n",
       "     free_sulfur_dioxide  total_sulfur_dioxide  density     ph  sulphates  \\\n",
       "0                  1.334                -0.236    0.469 -0.035     -1.459   \n",
       "1                 -0.841                -1.034   -0.339  0.134      0.725   \n",
       "2                  0.304                 0.626    0.204 -0.938     -1.257   \n",
       "3                  1.099                 1.394   -1.115 -1.176     -0.122   \n",
       "4                  0.204                 3.000   -1.703  0.783      1.804   \n",
       "..                   ...                   ...      ...    ...        ...   \n",
       "884               -2.194                -1.143   -0.617 -0.405     -0.513   \n",
       "885               -0.059                 0.084    0.469 -0.035     -0.513   \n",
       "886                0.238                 3.537   -2.623  0.444      2.166   \n",
       "887               -0.649                -0.078    0.923 -0.608     -1.528   \n",
       "888               -0.426                -0.806   -0.339  1.382      0.392   \n",
       "\n",
       "     alcohol  \n",
       "0      0.540  \n",
       "1      1.256  \n",
       "2     -0.962  \n",
       "3     -1.117  \n",
       "4     -0.283  \n",
       "..       ...  \n",
       "884    0.860  \n",
       "885   -0.962  \n",
       "886    0.860  \n",
       "887    0.452  \n",
       "888    1.197  \n",
       "\n",
       "[889 rows x 11 columns]"
      ]
     },
     "execution_count": 13,
     "metadata": {},
     "output_type": "execute_result"
    }
   ],
   "source": [
    "X_red_train.round(decimals=3)"
   ]
  },
  {
   "cell_type": "code",
   "execution_count": 27,
   "id": "38695019",
   "metadata": {
    "collapsed": true
   },
   "outputs": [
    {
     "data": {
      "text/html": [
       "<div>\n",
       "<style scoped>\n",
       "    .dataframe tbody tr th:only-of-type {\n",
       "        vertical-align: middle;\n",
       "    }\n",
       "\n",
       "    .dataframe tbody tr th {\n",
       "        vertical-align: top;\n",
       "    }\n",
       "\n",
       "    .dataframe thead th {\n",
       "        text-align: right;\n",
       "    }\n",
       "</style>\n",
       "<table border=\"1\" class=\"dataframe\">\n",
       "  <thead>\n",
       "    <tr style=\"text-align: right;\">\n",
       "      <th></th>\n",
       "      <th>quality</th>\n",
       "    </tr>\n",
       "  </thead>\n",
       "  <tbody>\n",
       "    <tr>\n",
       "      <th>0</th>\n",
       "      <td>-0.748</td>\n",
       "    </tr>\n",
       "    <tr>\n",
       "      <th>1</th>\n",
       "      <td>0.465</td>\n",
       "    </tr>\n",
       "    <tr>\n",
       "      <th>2</th>\n",
       "      <td>-0.748</td>\n",
       "    </tr>\n",
       "    <tr>\n",
       "      <th>3</th>\n",
       "      <td>-0.748</td>\n",
       "    </tr>\n",
       "    <tr>\n",
       "      <th>4</th>\n",
       "      <td>1.602</td>\n",
       "    </tr>\n",
       "    <tr>\n",
       "      <th>...</th>\n",
       "      <td>...</td>\n",
       "    </tr>\n",
       "    <tr>\n",
       "      <th>884</th>\n",
       "      <td>0.465</td>\n",
       "    </tr>\n",
       "    <tr>\n",
       "      <th>885</th>\n",
       "      <td>1.602</td>\n",
       "    </tr>\n",
       "    <tr>\n",
       "      <th>886</th>\n",
       "      <td>1.602</td>\n",
       "    </tr>\n",
       "    <tr>\n",
       "      <th>887</th>\n",
       "      <td>-0.748</td>\n",
       "    </tr>\n",
       "    <tr>\n",
       "      <th>888</th>\n",
       "      <td>1.602</td>\n",
       "    </tr>\n",
       "  </tbody>\n",
       "</table>\n",
       "<p>889 rows × 1 columns</p>\n",
       "</div>"
      ],
      "text/plain": [
       "     quality\n",
       "0     -0.748\n",
       "1      0.465\n",
       "2     -0.748\n",
       "3     -0.748\n",
       "4      1.602\n",
       "..       ...\n",
       "884    0.465\n",
       "885    1.602\n",
       "886    1.602\n",
       "887   -0.748\n",
       "888    1.602\n",
       "\n",
       "[889 rows x 1 columns]"
      ]
     },
     "execution_count": 27,
     "metadata": {},
     "output_type": "execute_result"
    }
   ],
   "source": [
    "y_red_train.round(decimals=3)"
   ]
  },
  {
   "cell_type": "code",
   "execution_count": null,
   "id": "4a908c61",
   "metadata": {},
   "outputs": [],
   "source": [
    "X_red_test.round(decimals=3)"
   ]
  },
  {
   "cell_type": "markdown",
   "id": "db265342",
   "metadata": {},
   "source": [
    "# Model"
   ]
  },
  {
   "cell_type": "code",
   "execution_count": 28,
   "id": "cb5073b2",
   "metadata": {},
   "outputs": [],
   "source": [
    "X_red_train_ct = sm.add_constant(X_red_train.to_numpy()) # adding a constant \n",
    "X_red_test_ct = sm.add_constant(X_red_test.to_numpy())"
   ]
  },
  {
   "cell_type": "code",
   "execution_count": 29,
   "id": "daed6bd0",
   "metadata": {},
   "outputs": [],
   "source": [
    "model_red = sm.OLS(y_red_train, X_red_train_ct).fit()"
   ]
  },
  {
   "cell_type": "code",
   "execution_count": 30,
   "id": "be09c67e",
   "metadata": {},
   "outputs": [],
   "source": [
    "pred_red_train = model_red.predict(X_red_train_ct)"
   ]
  },
  {
   "cell_type": "code",
   "execution_count": 31,
   "id": "73e08a03",
   "metadata": {},
   "outputs": [],
   "source": [
    "pred_red_test = model_red.predict(X_red_test_ct)"
   ]
  },
  {
   "cell_type": "code",
   "execution_count": 32,
   "id": "85836b42",
   "metadata": {},
   "outputs": [],
   "source": [
    "print_model = model_red.summary()"
   ]
  },
  {
   "cell_type": "code",
   "execution_count": 33,
   "id": "800867ec",
   "metadata": {},
   "outputs": [
    {
     "name": "stdout",
     "output_type": "stream",
     "text": [
      "                            OLS Regression Results                            \n",
      "==============================================================================\n",
      "Dep. Variable:                quality   R-squared:                       0.377\n",
      "Model:                            OLS   Adj. R-squared:                  0.370\n",
      "Method:                 Least Squares   F-statistic:                     48.35\n",
      "Date:                Tue, 18 Apr 2023   Prob (F-statistic):           1.04e-82\n",
      "Time:                        17:32:08   Log-Likelihood:                -1050.7\n",
      "No. Observations:                 889   AIC:                             2125.\n",
      "Df Residuals:                     877   BIC:                             2183.\n",
      "Df Model:                          11                                         \n",
      "Covariance Type:            nonrobust                                         \n",
      "==============================================================================\n",
      "                 coef    std err          t      P>|t|      [0.025      0.975]\n",
      "------------------------------------------------------------------------------\n",
      "const      -8.041e-14      0.027  -3.02e-12      1.000      -0.052       0.052\n",
      "x1             0.1091      0.073      1.500      0.134      -0.034       0.252\n",
      "x2            -0.2394      0.037     -6.449      0.000      -0.312      -0.167\n",
      "x3             0.0372      0.034      1.081      0.280      -0.030       0.105\n",
      "x4            -0.0593      0.031     -1.907      0.057      -0.120       0.002\n",
      "x5             0.0101      0.046      0.221      0.825      -0.080       0.100\n",
      "x6            -0.0367      0.049     -0.748      0.454      -0.133       0.060\n",
      "x7            -0.1495      0.066     -2.251      0.025      -0.280      -0.019\n",
      "x8            -0.0896      0.048     -1.851      0.065      -0.185       0.005\n",
      "x9             0.2274      0.031      7.405      0.000       0.167       0.288\n",
      "x10           -0.1005      0.046     -2.190      0.029      -0.191      -0.010\n",
      "x11            0.3186      0.045      7.047      0.000       0.230       0.407\n",
      "==============================================================================\n",
      "Omnibus:                       41.428   Durbin-Watson:                   2.011\n",
      "Prob(Omnibus):                  0.000   Jarque-Bera (JB):               71.906\n",
      "Skew:                          -0.347   Prob(JB):                     2.43e-16\n",
      "Kurtosis:                       4.208   Cond. No.                         6.98\n",
      "==============================================================================\n",
      "\n",
      "Notes:\n",
      "[1] Standard Errors assume that the covariance matrix of the errors is correctly specified.\n"
     ]
    }
   ],
   "source": [
    "print(print_model)"
   ]
  },
  {
   "cell_type": "code",
   "execution_count": null,
   "id": "50b4c6c9",
   "metadata": {},
   "outputs": [],
   "source": [
    "lr = LinearRegression()\n",
    "lr.fit(X_red_train, y_red_train)"
   ]
  },
  {
   "cell_type": "code",
   "execution_count": null,
   "id": "d5cb942b",
   "metadata": {},
   "outputs": [],
   "source": [
    "lr.coef_"
   ]
  },
  {
   "cell_type": "code",
   "execution_count": null,
   "id": "635f9975",
   "metadata": {},
   "outputs": [],
   "source": [
    "lr.intercept_"
   ]
  },
  {
   "cell_type": "code",
   "execution_count": null,
   "id": "ea32e11d",
   "metadata": {},
   "outputs": [],
   "source": []
  }
 ],
 "metadata": {
  "kernelspec": {
   "display_name": "Python 3 (ipykernel)",
   "language": "python",
   "name": "python3"
  },
  "language_info": {
   "codemirror_mode": {
    "name": "ipython",
    "version": 3
   },
   "file_extension": ".py",
   "mimetype": "text/x-python",
   "name": "python",
   "nbconvert_exporter": "python",
   "pygments_lexer": "ipython3",
   "version": "3.9.13"
  }
 },
 "nbformat": 4,
 "nbformat_minor": 5
}
