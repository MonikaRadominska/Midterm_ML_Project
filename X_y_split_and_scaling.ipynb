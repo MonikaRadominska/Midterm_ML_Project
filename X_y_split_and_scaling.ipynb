{
 "cells": [
  {
   "cell_type": "code",
   "execution_count": 1,
   "id": "eb3fc617",
   "metadata": {},
   "outputs": [],
   "source": [
    "import numpy as np\n",
    "import pandas as pd\n",
    "import matplotlib.pyplot as plt\n",
    "%matplotlib inline\n",
    "import seaborn as sns\n",
    "from sklearn.preprocessing import PowerTransformer\n",
    "from sklearn.preprocessing import StandardScaler\n",
    "from sklearn.compose import ColumnTransformer\n",
    "from sklearn.linear_model import LinearRegression\n",
    "from sklearn.model_selection import train_test_split\n",
    "import statsmodels.api as sm\n",
    "from sklearn.metrics import r2_score\n",
    "from sklearn.metrics import mean_squared_error as mse\n",
    "from sklearn.metrics import mean_absolute_error as mae"
   ]
  },
  {
   "cell_type": "code",
   "execution_count": 2,
   "id": "0dce08eb",
   "metadata": {},
   "outputs": [],
   "source": [
    "red = pd.read_csv('data/red_cleaned_final.csv')\n",
    "white = pd.read_csv('data/white_cleaned_final.csv')"
   ]
  },
  {
   "cell_type": "code",
   "execution_count": 3,
   "id": "9b5d47ee",
   "metadata": {},
   "outputs": [],
   "source": [
    "red = red.drop(['Unnamed: 0'], axis = 1)\n",
    "white = white.drop(['Unnamed: 0'], axis = 1)"
   ]
  },
  {
   "cell_type": "markdown",
   "id": "202bf734",
   "metadata": {},
   "source": [
    "# X - y Split"
   ]
  },
  {
   "cell_type": "code",
   "execution_count": 4,
   "id": "b5e44172",
   "metadata": {},
   "outputs": [],
   "source": [
    "X_red = red.drop('quality', axis=1)\n",
    "y_red = red.quality\n",
    "\n",
    "X_white = white.drop('quality', axis=1)\n",
    "y_white = white.quality"
   ]
  },
  {
   "cell_type": "markdown",
   "id": "b8ec2a8c",
   "metadata": {},
   "source": [
    "# Train - Test Split"
   ]
  },
  {
   "cell_type": "code",
   "execution_count": 5,
   "id": "fdba73ce",
   "metadata": {},
   "outputs": [],
   "source": [
    "X_red_train, X_red_test, y_red_train, y_red_test = train_test_split(X_red, y_red, test_size=0.3, random_state=100)\n",
    "X_red_train = pd.DataFrame(X_red_train)\n",
    "X_red_test = pd.DataFrame(X_red_test)\n",
    "\n",
    "X_white_train, X_white_test, y_white_train, y_white_test = train_test_split(X_white, y_white, test_size=0.3, random_state=100)\n",
    "X_white_train = pd.DataFrame(X_white_train)\n",
    "X_white_test = pd.DataFrame(X_white_test)"
   ]
  },
  {
   "cell_type": "markdown",
   "id": "c2cf42a5",
   "metadata": {},
   "source": [
    "# Transform and scale"
   ]
  },
  {
   "cell_type": "markdown",
   "id": "108c4931",
   "metadata": {},
   "source": [
    "## Powertransformer and Standard Scaler"
   ]
  },
  {
   "cell_type": "markdown",
   "id": "b6740e27",
   "metadata": {},
   "source": [
    "## X_train"
   ]
  },
  {
   "cell_type": "code",
   "execution_count": 6,
   "id": "9c7b366a",
   "metadata": {},
   "outputs": [],
   "source": [
    "pt = PowerTransformer(method='yeo-johnson', standardize=True)\n",
    "ss = StandardScaler()"
   ]
  },
  {
   "cell_type": "code",
   "execution_count": 7,
   "id": "1df8cf43",
   "metadata": {},
   "outputs": [],
   "source": [
    "# transform X_train\n",
    "X_red_train_pt_f_t = pt.fit_transform(X_red_train)\n",
    "X_red_train_ss_f_t = ss.fit_transform(X_red_train)\n",
    "\n",
    "X_white_train_pt_f_t = pt.fit_transform(X_white_train)"
   ]
  },
  {
   "cell_type": "code",
   "execution_count": 8,
   "id": "6fa6ae5e",
   "metadata": {},
   "outputs": [],
   "source": [
    "# replace columns X_train for red wine\n",
    "X_red_train_pt_f_t[6] = X_red_train_ss_f_t[6]\n",
    "X_red_train_pt_f_t[7] = X_red_train_ss_f_t[7]"
   ]
  },
  {
   "cell_type": "code",
   "execution_count": 9,
   "id": "690b56df",
   "metadata": {},
   "outputs": [],
   "source": [
    "# make a dataframe for X_train after replacing columns\n",
    "X_red_train = pd.DataFrame(X_red_train_pt_f_t)\n",
    "\n",
    "X_white_train = pd.DataFrame(X_white_train_pt_f_t)"
   ]
  },
  {
   "cell_type": "markdown",
   "id": "470069e4",
   "metadata": {},
   "source": [
    "## X_test"
   ]
  },
  {
   "cell_type": "code",
   "execution_count": 10,
   "id": "0e62c1bb",
   "metadata": {},
   "outputs": [
    {
     "name": "stderr",
     "output_type": "stream",
     "text": [
      "/Users/dmitrir./opt/anaconda3/lib/python3.9/site-packages/sklearn/base.py:493: FutureWarning: The feature names should match those that were passed during fit. Starting version 1.2, an error will be raised.\n",
      "Feature names must be in the same order as they were in fit.\n",
      "\n",
      "  warnings.warn(message, FutureWarning)\n"
     ]
    }
   ],
   "source": [
    "# transform X_test\n",
    "X_red_test_pt_t = pt.transform(X_red_test)\n",
    "X_red_test_ss_t = ss.transform(X_red_test)\n",
    "\n",
    "X_white_test_pt_t = pt.transform(X_white_test)"
   ]
  },
  {
   "cell_type": "code",
   "execution_count": 11,
   "id": "0430e137",
   "metadata": {},
   "outputs": [],
   "source": [
    "# replace columns X_test\n",
    "X_red_test_pt_t[6] = X_red_test_ss_t[6]\n",
    "X_red_test_pt_t[7] = X_red_test_ss_t[7]"
   ]
  },
  {
   "cell_type": "code",
   "execution_count": 12,
   "id": "5a260b9a",
   "metadata": {
    "scrolled": true
   },
   "outputs": [],
   "source": [
    "# make a dataframe for X_train after replacing columns\n",
    "X_red_test = pd.DataFrame(X_red_test_pt_t)\n",
    "\n",
    "X_white_test = pd.DataFrame(X_white_test_pt_t)"
   ]
  },
  {
   "cell_type": "code",
   "execution_count": 13,
   "id": "38383d59",
   "metadata": {},
   "outputs": [
    {
     "data": {
      "text/html": [
       "<div>\n",
       "<style scoped>\n",
       "    .dataframe tbody tr th:only-of-type {\n",
       "        vertical-align: middle;\n",
       "    }\n",
       "\n",
       "    .dataframe tbody tr th {\n",
       "        vertical-align: top;\n",
       "    }\n",
       "\n",
       "    .dataframe thead th {\n",
       "        text-align: right;\n",
       "    }\n",
       "</style>\n",
       "<table border=\"1\" class=\"dataframe\">\n",
       "  <thead>\n",
       "    <tr style=\"text-align: right;\">\n",
       "      <th></th>\n",
       "      <th>fixed_acidity</th>\n",
       "      <th>volatile_acidity</th>\n",
       "      <th>citric_acid</th>\n",
       "      <th>residual_sugar</th>\n",
       "      <th>chlorides</th>\n",
       "      <th>free_sulfur_dioxide</th>\n",
       "      <th>total_sulfur_dioxide</th>\n",
       "      <th>density</th>\n",
       "      <th>ph</th>\n",
       "      <th>sulphates</th>\n",
       "      <th>alcohol</th>\n",
       "    </tr>\n",
       "  </thead>\n",
       "  <tbody>\n",
       "    <tr>\n",
       "      <th>0</th>\n",
       "      <td>0.254240</td>\n",
       "      <td>-0.666072</td>\n",
       "      <td>-0.129363</td>\n",
       "      <td>0.396020</td>\n",
       "      <td>0.351910</td>\n",
       "      <td>-0.236444</td>\n",
       "      <td>-0.638189</td>\n",
       "      <td>4.857226e-17</td>\n",
       "      <td>0.478087</td>\n",
       "      <td>0.237044</td>\n",
       "      <td>0.279754</td>\n",
       "    </tr>\n",
       "    <tr>\n",
       "      <th>1</th>\n",
       "      <td>-1.018817</td>\n",
       "      <td>-0.813096</td>\n",
       "      <td>0.056662</td>\n",
       "      <td>-1.369254</td>\n",
       "      <td>-0.283638</td>\n",
       "      <td>0.709513</td>\n",
       "      <td>-0.196987</td>\n",
       "      <td>-6.730727e-16</td>\n",
       "      <td>0.789431</td>\n",
       "      <td>-0.250138</td>\n",
       "      <td>0.879700</td>\n",
       "    </tr>\n",
       "    <tr>\n",
       "      <th>2</th>\n",
       "      <td>-0.882033</td>\n",
       "      <td>-2.131060</td>\n",
       "      <td>-0.711345</td>\n",
       "      <td>-0.292686</td>\n",
       "      <td>-0.188313</td>\n",
       "      <td>-1.747916</td>\n",
       "      <td>-1.686359</td>\n",
       "      <td>-5.551115e-17</td>\n",
       "      <td>2.063334</td>\n",
       "      <td>0.975378</td>\n",
       "      <td>-0.326867</td>\n",
       "    </tr>\n",
       "    <tr>\n",
       "      <th>3</th>\n",
       "      <td>0.254240</td>\n",
       "      <td>0.624005</td>\n",
       "      <td>-0.319275</td>\n",
       "      <td>0.676918</td>\n",
       "      <td>-1.797673</td>\n",
       "      <td>0.139925</td>\n",
       "      <td>-0.244964</td>\n",
       "      <td>-4.336809e-16</td>\n",
       "      <td>-0.256638</td>\n",
       "      <td>1.386898</td>\n",
       "      <td>1.632489</td>\n",
       "    </tr>\n",
       "    <tr>\n",
       "      <th>4</th>\n",
       "      <td>1.143198</td>\n",
       "      <td>0.216040</td>\n",
       "      <td>1.419946</td>\n",
       "      <td>-1.228239</td>\n",
       "      <td>0.351910</td>\n",
       "      <td>-0.369272</td>\n",
       "      <td>0.178485</td>\n",
       "      <td>-1.387779e-17</td>\n",
       "      <td>-0.688708</td>\n",
       "      <td>0.975378</td>\n",
       "      <td>-0.234900</td>\n",
       "    </tr>\n",
       "    <tr>\n",
       "      <th>...</th>\n",
       "      <td>...</td>\n",
       "      <td>...</td>\n",
       "      <td>...</td>\n",
       "      <td>...</td>\n",
       "      <td>...</td>\n",
       "      <td>...</td>\n",
       "      <td>...</td>\n",
       "      <td>...</td>\n",
       "      <td>...</td>\n",
       "      <td>...</td>\n",
       "      <td>...</td>\n",
       "    </tr>\n",
       "    <tr>\n",
       "      <th>1134</th>\n",
       "      <td>-1.018817</td>\n",
       "      <td>-2.672051</td>\n",
       "      <td>-0.812026</td>\n",
       "      <td>-1.369254</td>\n",
       "      <td>-0.094543</td>\n",
       "      <td>-1.278558</td>\n",
       "      <td>-1.803421</td>\n",
       "      <td>-2.012279e-16</td>\n",
       "      <td>2.405434</td>\n",
       "      <td>1.118957</td>\n",
       "      <td>-0.144787</td>\n",
       "    </tr>\n",
       "    <tr>\n",
       "      <th>1135</th>\n",
       "      <td>-1.739520</td>\n",
       "      <td>-1.291650</td>\n",
       "      <td>-0.913813</td>\n",
       "      <td>-0.434807</td>\n",
       "      <td>-0.283638</td>\n",
       "      <td>-1.747916</td>\n",
       "      <td>-0.638189</td>\n",
       "      <td>-2.567391e-16</td>\n",
       "      <td>0.604241</td>\n",
       "      <td>0.237044</td>\n",
       "      <td>-0.420744</td>\n",
       "    </tr>\n",
       "    <tr>\n",
       "      <th>1136</th>\n",
       "      <td>0.711333</td>\n",
       "      <td>-0.012120</td>\n",
       "      <td>0.933013</td>\n",
       "      <td>0.396020</td>\n",
       "      <td>-2.170552</td>\n",
       "      <td>-0.721350</td>\n",
       "      <td>-0.220945</td>\n",
       "      <td>-1.804112e-16</td>\n",
       "      <td>-0.398084</td>\n",
       "      <td>0.667008</td>\n",
       "      <td>0.809487</td>\n",
       "    </tr>\n",
       "    <tr>\n",
       "      <th>1137</th>\n",
       "      <td>1.651249</td>\n",
       "      <td>-0.813096</td>\n",
       "      <td>1.419946</td>\n",
       "      <td>-0.982829</td>\n",
       "      <td>-0.188313</td>\n",
       "      <td>0.079268</td>\n",
       "      <td>0.782793</td>\n",
       "      <td>2.775558e-17</td>\n",
       "      <td>-0.990044</td>\n",
       "      <td>-1.174412</td>\n",
       "      <td>-0.326867</td>\n",
       "    </tr>\n",
       "    <tr>\n",
       "      <th>1138</th>\n",
       "      <td>1.350448</td>\n",
       "      <td>0.104130</td>\n",
       "      <td>2.029364</td>\n",
       "      <td>1.052163</td>\n",
       "      <td>0.918729</td>\n",
       "      <td>-1.028580</td>\n",
       "      <td>-0.007457</td>\n",
       "      <td>7.216450e-16</td>\n",
       "      <td>-0.469762</td>\n",
       "      <td>1.572443</td>\n",
       "      <td>-1.478473</td>\n",
       "    </tr>\n",
       "  </tbody>\n",
       "</table>\n",
       "<p>1139 rows × 11 columns</p>\n",
       "</div>"
      ],
      "text/plain": [
       "      fixed_acidity  volatile_acidity  citric_acid  residual_sugar  chlorides  \\\n",
       "0          0.254240         -0.666072    -0.129363        0.396020   0.351910   \n",
       "1         -1.018817         -0.813096     0.056662       -1.369254  -0.283638   \n",
       "2         -0.882033         -2.131060    -0.711345       -0.292686  -0.188313   \n",
       "3          0.254240          0.624005    -0.319275        0.676918  -1.797673   \n",
       "4          1.143198          0.216040     1.419946       -1.228239   0.351910   \n",
       "...             ...               ...          ...             ...        ...   \n",
       "1134      -1.018817         -2.672051    -0.812026       -1.369254  -0.094543   \n",
       "1135      -1.739520         -1.291650    -0.913813       -0.434807  -0.283638   \n",
       "1136       0.711333         -0.012120     0.933013        0.396020  -2.170552   \n",
       "1137       1.651249         -0.813096     1.419946       -0.982829  -0.188313   \n",
       "1138       1.350448          0.104130     2.029364        1.052163   0.918729   \n",
       "\n",
       "      free_sulfur_dioxide  total_sulfur_dioxide       density        ph  \\\n",
       "0               -0.236444             -0.638189  4.857226e-17  0.478087   \n",
       "1                0.709513             -0.196987 -6.730727e-16  0.789431   \n",
       "2               -1.747916             -1.686359 -5.551115e-17  2.063334   \n",
       "3                0.139925             -0.244964 -4.336809e-16 -0.256638   \n",
       "4               -0.369272              0.178485 -1.387779e-17 -0.688708   \n",
       "...                   ...                   ...           ...       ...   \n",
       "1134            -1.278558             -1.803421 -2.012279e-16  2.405434   \n",
       "1135            -1.747916             -0.638189 -2.567391e-16  0.604241   \n",
       "1136            -0.721350             -0.220945 -1.804112e-16 -0.398084   \n",
       "1137             0.079268              0.782793  2.775558e-17 -0.990044   \n",
       "1138            -1.028580             -0.007457  7.216450e-16 -0.469762   \n",
       "\n",
       "      sulphates   alcohol  \n",
       "0      0.237044  0.279754  \n",
       "1     -0.250138  0.879700  \n",
       "2      0.975378 -0.326867  \n",
       "3      1.386898  1.632489  \n",
       "4      0.975378 -0.234900  \n",
       "...         ...       ...  \n",
       "1134   1.118957 -0.144787  \n",
       "1135   0.237044 -0.420744  \n",
       "1136   0.667008  0.809487  \n",
       "1137  -1.174412 -0.326867  \n",
       "1138   1.572443 -1.478473  \n",
       "\n",
       "[1139 rows x 11 columns]"
      ]
     },
     "execution_count": 13,
     "metadata": {},
     "output_type": "execute_result"
    }
   ],
   "source": [
    "# rename the columns\n",
    "def rename_columns(x):\n",
    "    x.rename(columns={0:'fixed_acidity',1:'volatile_acidity', 2:\"citric_acid\", 3:'residual_sugar', 4: 'chlorides', 5:\"free_sulfur_dioxide\", 6:\"total_sulfur_dioxide\", 7:'density', 8:'ph', 9:'sulphates', 10:'alcohol'}, inplace=True )\n",
    "    return x\n",
    "\n",
    "\n",
    "rename_columns(X_red_train)\n",
    "rename_columns(X_red_test)\n",
    "\n",
    "\n",
    "rename_columns(X_white_train)\n",
    "rename_columns(X_white_test)"
   ]
  },
  {
   "cell_type": "code",
   "execution_count": null,
   "id": "92351b68",
   "metadata": {},
   "outputs": [],
   "source": []
  }
 ],
 "metadata": {
  "kernelspec": {
   "display_name": "Python 3 (ipykernel)",
   "language": "python",
   "name": "python3"
  },
  "language_info": {
   "codemirror_mode": {
    "name": "ipython",
    "version": 3
   },
   "file_extension": ".py",
   "mimetype": "text/x-python",
   "name": "python",
   "nbconvert_exporter": "python",
   "pygments_lexer": "ipython3",
   "version": "3.9.13"
  }
 },
 "nbformat": 4,
 "nbformat_minor": 5
}
