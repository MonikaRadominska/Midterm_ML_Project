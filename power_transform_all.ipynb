{
 "cells": [
  {
   "cell_type": "code",
   "execution_count": 1,
   "id": "a0496512",
   "metadata": {},
   "outputs": [],
   "source": [
    "import numpy as np\n",
    "import pandas as pd\n",
    "import matplotlib.pyplot as plt\n",
    "%matplotlib inline\n",
    "import seaborn as sns\n",
    "from sklearn.preprocessing import PowerTransformer\n",
    "from sklearn.preprocessing import StandardScaler\n",
    "from sklearn.compose import ColumnTransformer\n",
    "from sklearn.linear_model import LinearRegression\n",
    "from sklearn.model_selection import train_test_split\n",
    "import statsmodels.api as sm\n",
    "from sklearn.metrics import r2_score\n",
    "from sklearn.metrics import mean_squared_error as mse\n",
    "from sklearn.metrics import mean_absolute_error as mae"
   ]
  },
  {
   "cell_type": "code",
   "execution_count": 2,
   "id": "35875029",
   "metadata": {},
   "outputs": [],
   "source": [
    "red = pd.read_csv('data/red_cleaned_final.csv')\n",
    "red = red.drop(['Unnamed: 0'], axis = 1)"
   ]
  },
  {
   "cell_type": "code",
   "execution_count": null,
   "id": "48d3e6ab",
   "metadata": {},
   "outputs": [],
   "source": [
    "white = pd.read_csv('data/white_cleaned_final.csv')\n",
    "white = white.drop(['Unnamed: 0'], axis = 1)"
   ]
  },
  {
   "cell_type": "markdown",
   "id": "cc700fd4",
   "metadata": {},
   "source": [
    "# X - y Split"
   ]
  },
  {
   "cell_type": "code",
   "execution_count": 3,
   "id": "e3aac596",
   "metadata": {},
   "outputs": [],
   "source": [
    "X_red = red.drop('quality', axis=1)\n",
    "y_red = red.quality"
   ]
  },
  {
   "cell_type": "code",
   "execution_count": null,
   "id": "5eb3a238",
   "metadata": {},
   "outputs": [],
   "source": [
    "X_white = white.drop('quality', axis=1)\n",
    "y_white = white.quality"
   ]
  },
  {
   "cell_type": "markdown",
   "id": "9f3be229",
   "metadata": {},
   "source": [
    "# Train - Test Split"
   ]
  },
  {
   "cell_type": "code",
   "execution_count": 4,
   "id": "baed45e1",
   "metadata": {},
   "outputs": [],
   "source": [
    "X_red_train, X_red_test, y_red_train, y_red_test = train_test_split(X_red, y_red, test_size=0.3, random_state=100)\n",
    "X_red_train = pd.DataFrame(X_red_train)\n",
    "y_red_train = pd.DataFrame(y_red_train)\n",
    "X_red_test = pd.DataFrame(X_red_test)\n",
    "y_red_test = pd.DataFrame(y_red_test)"
   ]
  },
  {
   "cell_type": "code",
   "execution_count": null,
   "id": "d9c314c0",
   "metadata": {},
   "outputs": [],
   "source": [
    "X_white_train, X_white_test, y_white_train, y_white_test = train_test_split(X_white, y_white, test_size=0.3, random_state=100)\n",
    "X_white_train = pd.DataFrame(X_white_train)\n",
    "y_white_train = pd.DataFrame(y_white_train)\n",
    "X_white_test = pd.DataFrame(X_white_test)\n",
    "y_white_test = pd.DataFrame(y_white_test)"
   ]
  },
  {
   "cell_type": "markdown",
   "id": "7fa2f917",
   "metadata": {},
   "source": [
    "# Model Red"
   ]
  },
  {
   "cell_type": "markdown",
   "id": "834740f2",
   "metadata": {},
   "source": [
    "### Powertransformation X_train and X_test"
   ]
  },
  {
   "cell_type": "code",
   "execution_count": 5,
   "id": "b8f24b59",
   "metadata": {},
   "outputs": [
    {
     "name": "stdout",
     "output_type": "stream",
     "text": [
      "[ColumnTransformer] ............ (1 of 1) Processing pt, total=   0.0s\n"
     ]
    }
   ],
   "source": [
    "pt = PowerTransformer(method='yeo-johnson', standardize=True)\n",
    "\n",
    "# fit on X_train\n",
    "ct = ColumnTransformer([(\"pt\", pt, list(X_red_train.columns))], \n",
    "                       remainder='drop',verbose_feature_names_out=True,verbose=True).fit(X_red_train)\n",
    "\n",
    "# transform X_train\n",
    "X_red_train_ct = pd.DataFrame(ct.transform(X_red_train), columns=ct.get_feature_names_out())  \n",
    "\n",
    "# transform X_test\n",
    "X_red_test_ct = pd.DataFrame(ct.transform(X_red_test),columns=ct.get_feature_names_out())"
   ]
  },
  {
   "cell_type": "markdown",
   "id": "6a7e7271",
   "metadata": {},
   "source": [
    "### OLS Modelling "
   ]
  },
  {
   "cell_type": "code",
   "execution_count": 6,
   "id": "f8082c1c",
   "metadata": {},
   "outputs": [
    {
     "name": "stdout",
     "output_type": "stream",
     "text": [
      "                            OLS Regression Results                            \n",
      "==============================================================================\n",
      "Dep. Variable:                quality   R-squared:                       0.384\n",
      "Model:                            OLS   Adj. R-squared:                  0.376\n",
      "Method:                 Least Squares   F-statistic:                     49.69\n",
      "Date:                Wed, 19 Apr 2023   Prob (F-statistic):           1.15e-84\n",
      "Time:                        11:47:43   Log-Likelihood:                -882.11\n",
      "No. Observations:                 889   AIC:                             1788.\n",
      "Df Residuals:                     877   BIC:                             1846.\n",
      "Df Model:                          11                                         \n",
      "Covariance Type:            nonrobust                                         \n",
      "==============================================================================\n",
      "                 coef    std err          t      P>|t|      [0.025      0.975]\n",
      "------------------------------------------------------------------------------\n",
      "const          5.6322      0.022    255.555      0.000       5.589       5.675\n",
      "x1             0.0984      0.060      1.636      0.102      -0.020       0.216\n",
      "x2            -0.1927      0.031     -6.273      0.000      -0.253      -0.132\n",
      "x3             0.0319      0.028      1.123      0.262      -0.024       0.088\n",
      "x4            -0.0506      0.026     -1.968      0.049      -0.101      -0.000\n",
      "x5             0.0069      0.038      0.183      0.855      -0.067       0.081\n",
      "x6            -0.0344      0.041     -0.848      0.397      -0.114       0.045\n",
      "x7            -0.1317      0.055     -2.397      0.017      -0.239      -0.024\n",
      "x8            -0.0690      0.040     -1.723      0.085      -0.148       0.010\n",
      "x9             0.1922      0.025      7.564      0.000       0.142       0.242\n",
      "x10           -0.0804      0.038     -2.119      0.034      -0.155      -0.006\n",
      "x11            0.2656      0.037      7.102      0.000       0.192       0.339\n",
      "==============================================================================\n",
      "Omnibus:                       17.408   Durbin-Watson:                   2.006\n",
      "Prob(Omnibus):                  0.000   Jarque-Bera (JB):               29.064\n",
      "Skew:                          -0.126   Prob(JB):                     4.89e-07\n",
      "Kurtosis:                       3.849   Cond. No.                         6.98\n",
      "==============================================================================\n",
      "\n",
      "Notes:\n",
      "[1] Standard Errors assume that the covariance matrix of the errors is correctly specified.\n"
     ]
    }
   ],
   "source": [
    "# X_train\n",
    "X_red_train_const_ct = sm.add_constant(X_red_train_ct.to_numpy()) # adding a constant\n",
    "model = sm.OLS(y_red_train, X_red_train_const_ct).fit() # fit the model # y_train is not powertransformed\n",
    "predictions_train = model.predict(X_red_train_const_ct) # predict\n",
    "\n",
    "# how do you the coef?\n",
    "\n",
    "# X_test\n",
    "X_red_test_const_ct = sm.add_constant(X_red_test_ct) # adding a constant on X_test\n",
    "predictions_test = model.predict(X_red_test_const_ct) # predict\n",
    "\n",
    "\n",
    "print_model = model.summary()\n",
    "print(print_model)"
   ]
  },
  {
   "cell_type": "markdown",
   "id": "351b8300",
   "metadata": {},
   "source": [
    "### Predicting"
   ]
  },
  {
   "cell_type": "code",
   "execution_count": 9,
   "id": "ff3ef744",
   "metadata": {
    "collapsed": true
   },
   "outputs": [
    {
     "data": {
      "text/html": [
       "<div>\n",
       "<style scoped>\n",
       "    .dataframe tbody tr th:only-of-type {\n",
       "        vertical-align: middle;\n",
       "    }\n",
       "\n",
       "    .dataframe tbody tr th {\n",
       "        vertical-align: top;\n",
       "    }\n",
       "\n",
       "    .dataframe thead th {\n",
       "        text-align: right;\n",
       "    }\n",
       "</style>\n",
       "<table border=\"1\" class=\"dataframe\">\n",
       "  <thead>\n",
       "    <tr style=\"text-align: right;\">\n",
       "      <th></th>\n",
       "      <th>quality</th>\n",
       "      <th>quality</th>\n",
       "    </tr>\n",
       "  </thead>\n",
       "  <tbody>\n",
       "    <tr>\n",
       "      <th>0</th>\n",
       "      <td>5</td>\n",
       "      <td>5.575673</td>\n",
       "    </tr>\n",
       "    <tr>\n",
       "      <th>1</th>\n",
       "      <td>6</td>\n",
       "      <td>6.131333</td>\n",
       "    </tr>\n",
       "    <tr>\n",
       "      <th>2</th>\n",
       "      <td>5</td>\n",
       "      <td>5.092918</td>\n",
       "    </tr>\n",
       "    <tr>\n",
       "      <th>3</th>\n",
       "      <td>5</td>\n",
       "      <td>5.082457</td>\n",
       "    </tr>\n",
       "    <tr>\n",
       "      <th>4</th>\n",
       "      <td>7</td>\n",
       "      <td>5.421231</td>\n",
       "    </tr>\n",
       "    <tr>\n",
       "      <th>...</th>\n",
       "      <td>...</td>\n",
       "      <td>...</td>\n",
       "    </tr>\n",
       "    <tr>\n",
       "      <th>884</th>\n",
       "      <td>6</td>\n",
       "      <td>5.893911</td>\n",
       "    </tr>\n",
       "    <tr>\n",
       "      <th>885</th>\n",
       "      <td>7</td>\n",
       "      <td>5.279963</td>\n",
       "    </tr>\n",
       "    <tr>\n",
       "      <th>886</th>\n",
       "      <td>7</td>\n",
       "      <td>5.559989</td>\n",
       "    </tr>\n",
       "    <tr>\n",
       "      <th>887</th>\n",
       "      <td>5</td>\n",
       "      <td>5.348997</td>\n",
       "    </tr>\n",
       "    <tr>\n",
       "      <th>888</th>\n",
       "      <td>7</td>\n",
       "      <td>6.704783</td>\n",
       "    </tr>\n",
       "  </tbody>\n",
       "</table>\n",
       "<p>889 rows × 2 columns</p>\n",
       "</div>"
      ],
      "text/plain": [
       "     quality   quality\n",
       "0          5  5.575673\n",
       "1          6  6.131333\n",
       "2          5  5.092918\n",
       "3          5  5.082457\n",
       "4          7  5.421231\n",
       "..       ...       ...\n",
       "884        6  5.893911\n",
       "885        7  5.279963\n",
       "886        7  5.559989\n",
       "887        5  5.348997\n",
       "888        7  6.704783\n",
       "\n",
       "[889 rows x 2 columns]"
      ]
     },
     "execution_count": 9,
     "metadata": {},
     "output_type": "execute_result"
    }
   ],
   "source": [
    "# train\n",
    "y_red_train_pred = pd.DataFrame(model.predict(X_red_train_const_ct), columns = ['quality'])\n",
    "y_red_train = y_red_train.reset_index(drop=True)\n",
    "result_train = pd.concat([y_red_train, y_red_train_pred], axis=1)\n",
    "result_train"
   ]
  },
  {
   "cell_type": "code",
   "execution_count": 8,
   "id": "0d67bb5c",
   "metadata": {
    "collapsed": true
   },
   "outputs": [
    {
     "data": {
      "text/html": [
       "<div>\n",
       "<style scoped>\n",
       "    .dataframe tbody tr th:only-of-type {\n",
       "        vertical-align: middle;\n",
       "    }\n",
       "\n",
       "    .dataframe tbody tr th {\n",
       "        vertical-align: top;\n",
       "    }\n",
       "\n",
       "    .dataframe thead th {\n",
       "        text-align: right;\n",
       "    }\n",
       "</style>\n",
       "<table border=\"1\" class=\"dataframe\">\n",
       "  <thead>\n",
       "    <tr style=\"text-align: right;\">\n",
       "      <th></th>\n",
       "      <th>quality</th>\n",
       "      <th>quality</th>\n",
       "    </tr>\n",
       "  </thead>\n",
       "  <tbody>\n",
       "    <tr>\n",
       "      <th>0</th>\n",
       "      <td>6</td>\n",
       "      <td>6.032039</td>\n",
       "    </tr>\n",
       "    <tr>\n",
       "      <th>1</th>\n",
       "      <td>6</td>\n",
       "      <td>5.820659</td>\n",
       "    </tr>\n",
       "    <tr>\n",
       "      <th>2</th>\n",
       "      <td>6</td>\n",
       "      <td>6.376480</td>\n",
       "    </tr>\n",
       "    <tr>\n",
       "      <th>3</th>\n",
       "      <td>6</td>\n",
       "      <td>5.835005</td>\n",
       "    </tr>\n",
       "    <tr>\n",
       "      <th>4</th>\n",
       "      <td>6</td>\n",
       "      <td>5.611934</td>\n",
       "    </tr>\n",
       "    <tr>\n",
       "      <th>...</th>\n",
       "      <td>...</td>\n",
       "      <td>...</td>\n",
       "    </tr>\n",
       "    <tr>\n",
       "      <th>376</th>\n",
       "      <td>5</td>\n",
       "      <td>5.433388</td>\n",
       "    </tr>\n",
       "    <tr>\n",
       "      <th>377</th>\n",
       "      <td>4</td>\n",
       "      <td>4.842870</td>\n",
       "    </tr>\n",
       "    <tr>\n",
       "      <th>378</th>\n",
       "      <td>5</td>\n",
       "      <td>5.683625</td>\n",
       "    </tr>\n",
       "    <tr>\n",
       "      <th>379</th>\n",
       "      <td>6</td>\n",
       "      <td>5.324608</td>\n",
       "    </tr>\n",
       "    <tr>\n",
       "      <th>380</th>\n",
       "      <td>5</td>\n",
       "      <td>5.439218</td>\n",
       "    </tr>\n",
       "  </tbody>\n",
       "</table>\n",
       "<p>381 rows × 2 columns</p>\n",
       "</div>"
      ],
      "text/plain": [
       "     quality   quality\n",
       "0          6  6.032039\n",
       "1          6  5.820659\n",
       "2          6  6.376480\n",
       "3          6  5.835005\n",
       "4          6  5.611934\n",
       "..       ...       ...\n",
       "376        5  5.433388\n",
       "377        4  4.842870\n",
       "378        5  5.683625\n",
       "379        6  5.324608\n",
       "380        5  5.439218\n",
       "\n",
       "[381 rows x 2 columns]"
      ]
     },
     "execution_count": 8,
     "metadata": {},
     "output_type": "execute_result"
    }
   ],
   "source": [
    "# test\n",
    "y_red_pred = pd.DataFrame(model.predict(X_red_test_const_ct), columns = ['quality'] )\n",
    "y_red_test = y_red_test.reset_index(drop=True)\n",
    "result_test = pd.concat([y_red_test,y_red_pred], axis=1)\n",
    "result_test"
   ]
  },
  {
   "cell_type": "markdown",
   "id": "a34ff604",
   "metadata": {},
   "source": [
    "## Visualisation"
   ]
  },
  {
   "cell_type": "code",
   "execution_count": 10,
   "id": "ed0a0fda",
   "metadata": {},
   "outputs": [
    {
     "data": {
      "text/plain": [
       "[<matplotlib.lines.Line2D at 0x7fc1d8d2d6a0>]"
      ]
     },
     "execution_count": 10,
     "metadata": {},
     "output_type": "execute_result"
    },
    {
     "data": {
      "image/png": "[encoded data removed]",
      "text/plain": [
       "<Figure size 1400x400 with 3 Axes>"
      ]
     },
     "metadata": {},
     "output_type": "display_data"
    }
   ],
   "source": [
    "# Make an scatter plot y_pred vs y\n",
    "# What kind of plot you will get if all the all the predictions are ok?\n",
    "# A stright line\n",
    "\n",
    "fig, ax = plt.subplots(1,3,figsize=(14,4))\n",
    "ax[0].plot(y_red_pred, y_red_test, 'o')\n",
    "ax[0].set_xlabel(\"y_test\")\n",
    "ax[0].set_ylabel(\"y_pred\")\n",
    "ax[0].set_title(\"Test Set -Predicted vs real\")\n",
    "\n",
    "# Get a histogram of the residuals ie: y - y_pred.  Homoscdasticity\n",
    "# It resembles a normal distribution?\n",
    "ax[1].hist(y_red_test - y_red_pred)\n",
    "            # why here y_test - y_test_pred and below y_test_pred - y_test (as it will always be bigger by nature. ok, got that.)\n",
    "                    #         \n",
    "                    # which y_pred is this?\n",
    "                            # it is about the test y\n",
    "ax[1].set_xlabel(\"Test y-y_pred\")\n",
    "ax[1].set_title(\"Test Set Residual histogram\")\n",
    "\n",
    "\n",
    "ax[2].plot(y_red_pred, y_red_pred.to_numpy() - y_red_test.to_numpy(),\"o\")\n",
    "                                # here I want to see the negative ones to understand how it goes.\n",
    "    # y_lr_test_pred, \n",
    "ax[2].set_xlabel(\"predited\")\n",
    "ax[2].set_ylabel(\"residuals\")\n",
    "ax[2].set_title(\"Residuals by Predicted\")\n",
    "ax[2].plot(y_red_pred,np.zeros(len(y_red_pred)),linestyle='dashed')\n"
   ]
  },
  {
   "cell_type": "code",
   "execution_count": 20,
   "id": "4bab2b82",
   "metadata": {},
   "outputs": [
    {
     "ename": "AttributeError",
     "evalue": "'OLSResults' object has no attribute 'coef_'",
     "output_type": "error",
     "traceback": [
      "\u001b[0;31m---------------------------------------------------------------------------\u001b[0m",
      "\u001b[0;31mAttributeError\u001b[0m                            Traceback (most recent call last)",
      "\u001b[0;32m/var/folders/wq/2vxkh_6d4g7dpxkr5q82nxzh0000gn/T/ipykernel_97449/2045536337.py\u001b[0m in \u001b[0;36m<module>\u001b[0;34m\u001b[0m\n\u001b[1;32m      1\u001b[0m features_importances = pd.DataFrame(data={\n\u001b[1;32m      2\u001b[0m     \u001b[0;34m'Attribute'\u001b[0m\u001b[0;34m:\u001b[0m \u001b[0mX_red_train\u001b[0m\u001b[0;34m.\u001b[0m\u001b[0mcolumns\u001b[0m\u001b[0;34m,\u001b[0m\u001b[0;34m\u001b[0m\u001b[0;34m\u001b[0m\u001b[0m\n\u001b[0;32m----> 3\u001b[0;31m     \u001b[0;34m'Importance'\u001b[0m\u001b[0;34m:\u001b[0m \u001b[0mabs\u001b[0m\u001b[0;34m(\u001b[0m\u001b[0mmodel\u001b[0m\u001b[0;34m.\u001b[0m\u001b[0mcoef_\u001b[0m\u001b[0;34m.\u001b[0m\u001b[0mreshape\u001b[0m\u001b[0;34m(\u001b[0m\u001b[0mlen\u001b[0m\u001b[0;34m(\u001b[0m\u001b[0mX_red_train\u001b[0m\u001b[0;34m.\u001b[0m\u001b[0mcolumns\u001b[0m\u001b[0;34m)\u001b[0m\u001b[0;34m,\u001b[0m\u001b[0;34m)\u001b[0m\u001b[0;34m)\u001b[0m\u001b[0;34m\u001b[0m\u001b[0;34m\u001b[0m\u001b[0m\n\u001b[0m\u001b[1;32m      4\u001b[0m })\n\u001b[1;32m      5\u001b[0m \u001b[0;34m\u001b[0m\u001b[0m\n",
      "\u001b[0;32m~/opt/anaconda3/lib/python3.9/site-packages/statsmodels/base/wrapper.py\u001b[0m in \u001b[0;36m__getattribute__\u001b[0;34m(self, attr)\u001b[0m\n\u001b[1;32m     32\u001b[0m             \u001b[0;32mpass\u001b[0m\u001b[0;34m\u001b[0m\u001b[0;34m\u001b[0m\u001b[0m\n\u001b[1;32m     33\u001b[0m \u001b[0;34m\u001b[0m\u001b[0m\n\u001b[0;32m---> 34\u001b[0;31m         \u001b[0mobj\u001b[0m \u001b[0;34m=\u001b[0m \u001b[0mgetattr\u001b[0m\u001b[0;34m(\u001b[0m\u001b[0mresults\u001b[0m\u001b[0;34m,\u001b[0m \u001b[0mattr\u001b[0m\u001b[0;34m)\u001b[0m\u001b[0;34m\u001b[0m\u001b[0;34m\u001b[0m\u001b[0m\n\u001b[0m\u001b[1;32m     35\u001b[0m         \u001b[0mdata\u001b[0m \u001b[0;34m=\u001b[0m \u001b[0mresults\u001b[0m\u001b[0;34m.\u001b[0m\u001b[0mmodel\u001b[0m\u001b[0;34m.\u001b[0m\u001b[0mdata\u001b[0m\u001b[0;34m\u001b[0m\u001b[0;34m\u001b[0m\u001b[0m\n\u001b[1;32m     36\u001b[0m         \u001b[0mhow\u001b[0m \u001b[0;34m=\u001b[0m \u001b[0mself\u001b[0m\u001b[0;34m.\u001b[0m\u001b[0m_wrap_attrs\u001b[0m\u001b[0;34m.\u001b[0m\u001b[0mget\u001b[0m\u001b[0;34m(\u001b[0m\u001b[0mattr\u001b[0m\u001b[0;34m)\u001b[0m\u001b[0;34m\u001b[0m\u001b[0;34m\u001b[0m\u001b[0m\n",
      "\u001b[0;31mAttributeError\u001b[0m: 'OLSResults' object has no attribute 'coef_'"
     ]
    }
   ],
   "source": [
    "features_importances = pd.DataFrame(data={\n",
    "    'Attribute': X_red_train.columns,\n",
    "    'Importance': abs(model.coef_.reshape(len(X_red_train.columns),))\n",
    "})\n",
    "\n",
    "features_importances = features_importances.sort_values(by='Importance', ascending=False)\n",
    "features_importances"
   ]
  },
  {
   "cell_type": "code",
   "execution_count": 21,
   "id": "f080ad5f",
   "metadata": {},
   "outputs": [
    {
     "ename": "NameError",
     "evalue": "name 'features_importances' is not defined",
     "output_type": "error",
     "traceback": [
      "\u001b[0;31m---------------------------------------------------------------------------\u001b[0m",
      "\u001b[0;31mNameError\u001b[0m                                 Traceback (most recent call last)",
      "\u001b[0;32m/var/folders/wq/2vxkh_6d4g7dpxkr5q82nxzh0000gn/T/ipykernel_97449/259399450.py\u001b[0m in \u001b[0;36m<module>\u001b[0;34m\u001b[0m\n\u001b[0;32m----> 1\u001b[0;31m \u001b[0mplt\u001b[0m\u001b[0;34m.\u001b[0m\u001b[0mbar\u001b[0m\u001b[0;34m(\u001b[0m\u001b[0mx\u001b[0m\u001b[0;34m=\u001b[0m\u001b[0mfeatures_importances\u001b[0m\u001b[0;34m[\u001b[0m\u001b[0;34m'Attribute'\u001b[0m\u001b[0;34m]\u001b[0m\u001b[0;34m.\u001b[0m\u001b[0miloc\u001b[0m\u001b[0;34m[\u001b[0m\u001b[0;34m:\u001b[0m\u001b[0;36m10\u001b[0m\u001b[0;34m]\u001b[0m\u001b[0;34m,\u001b[0m \u001b[0mheight\u001b[0m\u001b[0;34m=\u001b[0m\u001b[0mfeatures_importances\u001b[0m\u001b[0;34m[\u001b[0m\u001b[0;34m'Importance'\u001b[0m\u001b[0;34m]\u001b[0m\u001b[0;34m.\u001b[0m\u001b[0miloc\u001b[0m\u001b[0;34m[\u001b[0m\u001b[0;34m:\u001b[0m\u001b[0;36m10\u001b[0m\u001b[0;34m]\u001b[0m\u001b[0;34m,\u001b[0m \u001b[0mcolor\u001b[0m\u001b[0;34m=\u001b[0m\u001b[0;34m'#087E8B'\u001b[0m\u001b[0;34m)\u001b[0m\u001b[0;34m\u001b[0m\u001b[0;34m\u001b[0m\u001b[0m\n\u001b[0m\u001b[1;32m      2\u001b[0m \u001b[0mplt\u001b[0m\u001b[0;34m.\u001b[0m\u001b[0mtitle\u001b[0m\u001b[0;34m(\u001b[0m\u001b[0;34m'Feature importance rankings'\u001b[0m\u001b[0;34m,\u001b[0m \u001b[0msize\u001b[0m\u001b[0;34m=\u001b[0m\u001b[0;36m12\u001b[0m\u001b[0;34m)\u001b[0m\u001b[0;34m\u001b[0m\u001b[0;34m\u001b[0m\u001b[0m\n\u001b[1;32m      3\u001b[0m \u001b[0mplt\u001b[0m\u001b[0;34m.\u001b[0m\u001b[0mxticks\u001b[0m\u001b[0;34m(\u001b[0m\u001b[0mrotation\u001b[0m\u001b[0;34m=\u001b[0m\u001b[0;34m'vertical'\u001b[0m\u001b[0;34m)\u001b[0m\u001b[0;34m\u001b[0m\u001b[0;34m\u001b[0m\u001b[0m\n\u001b[1;32m      4\u001b[0m \u001b[0mplt\u001b[0m\u001b[0;34m.\u001b[0m\u001b[0mshow\u001b[0m\u001b[0;34m(\u001b[0m\u001b[0;34m)\u001b[0m\u001b[0;34m\u001b[0m\u001b[0;34m\u001b[0m\u001b[0m\n",
      "\u001b[0;31mNameError\u001b[0m: name 'features_importances' is not defined"
     ]
    }
   ],
   "source": [
    "plt.bar(x=features_importances['Attribute'].iloc[:10], height=features_importances['Importance'].iloc[:10], color='#087E8B')\n",
    "plt.title('Feature importance rankings', size=12)\n",
    "plt.xticks(rotation='vertical')\n",
    "plt.show()"
   ]
  },
  {
   "cell_type": "markdown",
   "id": "aa156f08",
   "metadata": {},
   "source": [
    "### Modelling SciKit Learn"
   ]
  },
  {
   "cell_type": "code",
   "execution_count": 18,
   "id": "6834479f",
   "metadata": {},
   "outputs": [
    {
     "data": {
      "text/plain": [
       "array([5.63217098])"
      ]
     },
     "execution_count": 18,
     "metadata": {},
     "output_type": "execute_result"
    }
   ],
   "source": [
    "# train model\n",
    "from sklearn.linear_model import LinearRegression\n",
    "lr = LinearRegression()\n",
    "lr.fit(X_red_train_ct, y_red_train)\n",
    "lr.coef_\n",
    "lr.intercept_"
   ]
  },
  {
   "cell_type": "code",
   "execution_count": null,
   "id": "482dbfc7",
   "metadata": {},
   "outputs": [],
   "source": [
    "# predict\n",
    "y_red_lr_train_pred =  pd.DataFrame(lr.predict(X_red_train_ct), columns = ['quality'])\n",
    "y_red_lr_test_pred = pd.DataFrame(lr.predict(X_red_test_ct), columns = ['quality'])"
   ]
  },
  {
   "cell_type": "code",
   "execution_count": null,
   "id": "c1d25293",
   "metadata": {},
   "outputs": [],
   "source": [
    "from sklearn.metrics import mean_squared_error, r2_score, mean_absolute_error\n",
    "\n",
    "lr_red_train_mse = mean_squared_error(y_red_train, y_red_lr_train_pred)\n",
    "lr_red_train_mae = mean_absolute_error(y_red_train, y_red_lr_train_pred)\n",
    "lr_red_train_r2 = r2_score(y_red_train, y_red_lr_train_pred)\n",
    "lr_red_train_ar2 = 1 - (1 - lr_red_train_r2) * (len(y_red_train) -1) / (len(y_red_train) - X_red_train.shape[1] - 1)\n",
    "    # has X_train to be the scaled one?\n",
    "\n",
    "lr_red_test_mse = mean_squared_error(y_red_test, y_red_lr_test_pred)\n",
    "lr_red_test_mae = mean_absolute_error(y_red_test, y_red_lr_test_pred)\n",
    "lr_red_test_r2 = r2_score(y_red_test, y_red_lr_test_pred)\n",
    "lr_red_test_ar2 = 1 - (1 - lr_red_test_r2) * (len(y_red_test) -1) / (len(y_red_test) - X_red_test.shape[1] - 1)\n",
    "\n",
    "\n",
    "lr_results = pd.DataFrame(['Linear Regression', lr_red_train_mse, lr_red_test_mse, lr_red_train_mae, lr_red_test_mae, lr_red_train_r2, lr_red_test_r2, lr_red_train_ar2, lr_red_test_ar2]).transpose()\n",
    "lr_results.columns = ['Method', 'Training MSE', 'Test MSE', 'Training MAE', 'Test MAE', 'Training R2', 'Test R2', 'Training Ad. R2', 'Test Ad. R2']\n",
    "\n",
    "lr_results"
   ]
  },
  {
   "cell_type": "markdown",
   "id": "b80300ab",
   "metadata": {},
   "source": [
    "# Model White"
   ]
  },
  {
   "cell_type": "code",
   "execution_count": null,
   "id": "d4dfebf8",
   "metadata": {},
   "outputs": [],
   "source": [
    "#X_white_train_pt_f_t = pt.fit_transform(X_white_train)\n",
    "#X_white_train = pd.DataFrame(X_white_train_pt_f_t)"
   ]
  },
  {
   "cell_type": "markdown",
   "id": "05068663",
   "metadata": {},
   "source": [
    "# y_train"
   ]
  },
  {
   "cell_type": "code",
   "execution_count": null,
   "id": "62032207",
   "metadata": {},
   "outputs": [],
   "source": [
    "#y_red_train_pt_f_t = pt.fit_transform(y_red_train)\n",
    "#y_red_train = pd.DataFrame(y_red_train_pt_f_t)"
   ]
  },
  {
   "cell_type": "code",
   "execution_count": null,
   "id": "d4d663fd",
   "metadata": {},
   "outputs": [],
   "source": [
    "#y_white_train_pt_f_t = pt.fit_transform(y_white_train)\n",
    "#y_white_train = pd.DataFrame(y_white_train_pt_f_t)"
   ]
  },
  {
   "cell_type": "markdown",
   "id": "c9d69944",
   "metadata": {},
   "source": [
    "## X_test"
   ]
  },
  {
   "cell_type": "code",
   "execution_count": null,
   "id": "dec5ef18",
   "metadata": {},
   "outputs": [],
   "source": [
    "#X_red_test_pt_t = pt.transform(X_red_test)\n",
    "#X_red_test = pd.DataFrame(X_red_test_pt_t)"
   ]
  },
  {
   "cell_type": "code",
   "execution_count": null,
   "id": "bdf665b0",
   "metadata": {},
   "outputs": [],
   "source": [
    "#X_white_test_pt_t = pt.transform(X_white_test)\n",
    "#X_white_test = pd.DataFrame(X_white_test_pt_t)"
   ]
  },
  {
   "cell_type": "markdown",
   "id": "9446d44d",
   "metadata": {},
   "source": [
    "# y_test"
   ]
  },
  {
   "cell_type": "code",
   "execution_count": null,
   "id": "b26d6840",
   "metadata": {},
   "outputs": [],
   "source": [
    "#y_red_test_pt_t = pt.fit_transform(y_red_test)\n",
    "#y_red_test = pd.DataFrame(y_red_test_pt_t)"
   ]
  },
  {
   "cell_type": "code",
   "execution_count": null,
   "id": "3bb32d2e",
   "metadata": {},
   "outputs": [],
   "source": [
    "#y_white_test_pt_t = pt.fit_transform(y_white_test)\n",
    "#y_white_test = pd.DataFrame(y_white_test_pt_t)"
   ]
  },
  {
   "cell_type": "markdown",
   "id": "64373184",
   "metadata": {},
   "source": [
    "## Rename columns"
   ]
  },
  {
   "cell_type": "code",
   "execution_count": null,
   "id": "f4fdaeb6",
   "metadata": {},
   "outputs": [],
   "source": [
    "def rename_columns(x):\n",
    "    x.rename(columns={0:'fixed_acidity',1:'volatile_acidity', 2:\"citric_acid\", 3:'residual_sugar', 4: 'chlorides', 5:\"free_sulfur_dioxide\", 6:\"total_sulfur_dioxide\", 7:'density', 8:'ph', 9:'sulphates', 10:'alcohol'}, inplace=True )\n",
    "    return x"
   ]
  },
  {
   "cell_type": "code",
   "execution_count": null,
   "id": "0c5c82a5",
   "metadata": {},
   "outputs": [],
   "source": [
    "def rename_columns_y(x):\n",
    "    x.rename(columns={0:'quality'}, inplace=True )\n",
    "    return x"
   ]
  },
  {
   "cell_type": "code",
   "execution_count": null,
   "id": "c7b473ff",
   "metadata": {},
   "outputs": [],
   "source": [
    "rename_columns(X_red_train)\n",
    "rename_columns_y(y_red_train)\n",
    "rename_columns(X_red_test)\n",
    "rename_columns_y(y_red_test)"
   ]
  },
  {
   "cell_type": "code",
   "execution_count": null,
   "id": "c476e581",
   "metadata": {},
   "outputs": [],
   "source": [
    "rename_columns(X_white_train)\n",
    "rename_columns_y(y_white_train)\n",
    "rename_columns(X_white_test)\n",
    "rename_columns_y(y_white_test)"
   ]
  },
  {
   "cell_type": "markdown",
   "id": "4a0e89d7",
   "metadata": {},
   "source": [
    "# Round"
   ]
  },
  {
   "cell_type": "code",
   "execution_count": null,
   "id": "e3e4e212",
   "metadata": {},
   "outputs": [],
   "source": [
    "X_red_train.round(decimals=3)\n",
    "y_red_train.round(decimals=3)\n",
    "X_red_test.round(decimals=3)\n",
    "y_red_test.round(decimals=3)"
   ]
  },
  {
   "cell_type": "code",
   "execution_count": null,
   "id": "e2e92f1f",
   "metadata": {},
   "outputs": [],
   "source": [
    "X_white_train.round(decimals=3)\n",
    "y_white_train.round(decimals=3)\n",
    "X_white_test.round(decimals=3)\n",
    "y_white_test.round(decimals=3)"
   ]
  },
  {
   "cell_type": "markdown",
   "id": "db265342",
   "metadata": {},
   "source": [
    "# Model"
   ]
  },
  {
   "cell_type": "code",
   "execution_count": null,
   "id": "cb5073b2",
   "metadata": {},
   "outputs": [],
   "source": [
    "X_red_train_ct = sm.add_constant(X_red_train.to_numpy()) # adding a constant \n",
    "X_red_test_ct = sm.add_constant(X_red_test.to_numpy())"
   ]
  },
  {
   "cell_type": "code",
   "execution_count": null,
   "id": "daed6bd0",
   "metadata": {},
   "outputs": [],
   "source": [
    "model_red = sm.OLS(y_red_train, X_red_train_ct).fit()"
   ]
  },
  {
   "cell_type": "code",
   "execution_count": null,
   "id": "be09c67e",
   "metadata": {},
   "outputs": [],
   "source": [
    "pred_red_train = model_red.predict(X_red_train_ct)"
   ]
  },
  {
   "cell_type": "code",
   "execution_count": null,
   "id": "73e08a03",
   "metadata": {},
   "outputs": [],
   "source": [
    "pred_red_test = model_red.predict(X_red_test_ct)"
   ]
  },
  {
   "cell_type": "code",
   "execution_count": null,
   "id": "85836b42",
   "metadata": {},
   "outputs": [],
   "source": [
    "print_model = model_red.summary()"
   ]
  },
  {
   "cell_type": "code",
   "execution_count": null,
   "id": "800867ec",
   "metadata": {},
   "outputs": [],
   "source": [
    "print(print_model)"
   ]
  },
  {
   "cell_type": "code",
   "execution_count": null,
   "id": "50b4c6c9",
   "metadata": {},
   "outputs": [],
   "source": [
    "lr = LinearRegression()\n",
    "lr.fit(X_red_train, y_red_train)"
   ]
  },
  {
   "cell_type": "code",
   "execution_count": null,
   "id": "d5cb942b",
   "metadata": {},
   "outputs": [],
   "source": [
    "lr.coef_"
   ]
  },
  {
   "cell_type": "code",
   "execution_count": null,
   "id": "635f9975",
   "metadata": {},
   "outputs": [],
   "source": [
    "lr.intercept_"
   ]
  },
  {
   "cell_type": "code",
   "execution_count": null,
   "id": "ea32e11d",
   "metadata": {},
   "outputs": [],
   "source": []
  }
 ],
 "metadata": {
  "kernelspec": {
   "display_name": "Python 3 (ipykernel)",
   "language": "python",
   "name": "python3"
  },
  "language_info": {
   "codemirror_mode": {
    "name": "ipython",
    "version": 3
   },
   "file_extension": ".py",
   "mimetype": "text/x-python",
   "name": "python",
   "nbconvert_exporter": "python",
   "pygments_lexer": "ipython3",
   "version": "3.9.13"
  }
 },
 "nbformat": 4,
 "nbformat_minor": 5
}
